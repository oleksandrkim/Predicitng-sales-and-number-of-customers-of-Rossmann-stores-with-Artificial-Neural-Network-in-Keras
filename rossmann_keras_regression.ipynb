{
 "cells": [
  {
   "cell_type": "markdown",
   "metadata": {},
   "source": [
    "## Predicting sales and number of customers of Rossmann stores with Artificial Neural Network in Keras (Regression)"
   ]
  },
  {
   "cell_type": "markdown",
   "metadata": {},
   "source": [
    "### Information about the dataset"
   ]
  },
  {
   "cell_type": "markdown",
   "metadata": {},
   "source": [
    "- Number of inputs: **1 017 209**\n",
    "- Number of features: **19**\n",
    "- Dataset: https://www.kaggle.com/c/rossmann-store-sales\n",
    "- Data fields description: can be found here https://www.kaggle.com/c/rossmann-store-sales"
   ]
  },
  {
   "cell_type": "markdown",
   "metadata": {},
   "source": [
    "### Importing main libraries"
   ]
  },
  {
   "cell_type": "code",
   "execution_count": 1,
   "metadata": {},
   "outputs": [],
   "source": [
    "import numpy as np\n",
    "import matplotlib.pyplot as plt\n",
    "import pandas as pd\n",
    "from sklearn import preprocessing\n",
    "import warnings; warnings.simplefilter('ignore')"
   ]
  },
  {
   "cell_type": "markdown",
   "metadata": {},
   "source": [
    "**Loading of the dataset. Two dataset from the website were merged sepately, a merged version is presented**"
   ]
  },
  {
   "cell_type": "code",
   "execution_count": 2,
   "metadata": {},
   "outputs": [],
   "source": [
    "df_un = pd.read_csv(\"exported.csv\")"
   ]
  },
  {
   "cell_type": "markdown",
   "metadata": {},
   "source": [
    "**Some data preprocessing**"
   ]
  },
  {
   "cell_type": "code",
   "execution_count": 3,
   "metadata": {},
   "outputs": [],
   "source": [
    "#convert to datetime\n",
    "df_un['Date'] = pd.to_datetime(df_un['Date'])\n",
    "\n",
    "#create a month column from date column\n",
    "df_un['month'] = df_un['Date'].dt.month\n",
    "\n",
    "#create seasonal column\n",
    "conditions = [\n",
    "    (df_un['month'] == 1) | (df_un['month'] == 2) | (df_un['month'] == 12),\n",
    "    (df_un['month'] == 3) | (df_un['month'] == 4) | (df_un['month'] == 5),\n",
    "    (df_un['month'] == 6) | (df_un['month'] == 7) | (df_un['month'] == 8)  \n",
    "]\n",
    "\n",
    "choices = ['Winter', 'Spring', 'Summer']\n",
    "df_un['Season'] = np.select(conditions, choices, default='Autumn')"
   ]
  },
  {
   "cell_type": "markdown",
   "metadata": {},
   "source": [
    "**Removing values with competion distance = na and days when shops were closed**"
   ]
  },
  {
   "cell_type": "code",
   "execution_count": 4,
   "metadata": {},
   "outputs": [],
   "source": [
    "df_un = df_un[df_un['CompetitionDistance'].notnull()]\n",
    "df_un = df_un[df_un['Open']!=0]"
   ]
  },
  {
   "cell_type": "markdown",
   "metadata": {},
   "source": [
    "**A value to predict** <br>\n",
    "3rd column - sales, 4th - number of customers"
   ]
  },
  {
   "cell_type": "code",
   "execution_count": 5,
   "metadata": {},
   "outputs": [],
   "source": [
    "y = df_un.iloc[:, 3] \n",
    "y_2 = df_un.iloc[:, 4]"
   ]
  },
  {
   "cell_type": "markdown",
   "metadata": {},
   "source": [
    "**Creating a separate dataframe with categorical variables to apply get_dummies** <br>\n",
    "Only some columns from a dataset will be used - DayOfWeek,\tPromo,\tStateHoliday,\tSchoolHoliday,\tStoreType,\tAssortment,\tmonth,\tSeason\n"
   ]
  },
  {
   "cell_type": "code",
   "execution_count": 6,
   "metadata": {},
   "outputs": [],
   "source": [
    "#indexes of columns with and without categorical variables\n",
    "col_list = [1,6,7,8,9,10,19,20]\n",
    "no_cat_var = [11]\n",
    "\n",
    "df_un_cat = df_un.iloc[:, col_list]\n",
    "df_un_non_cat = df_un.iloc[:, no_cat_var]"
   ]
  },
  {
   "cell_type": "markdown",
   "metadata": {},
   "source": [
    "**Convert some variables to \"category\" so get_dummies encodes it**"
   ]
  },
  {
   "cell_type": "code",
   "execution_count": 7,
   "metadata": {},
   "outputs": [],
   "source": [
    "#conversion so get_dummies works\n",
    "df_un_cat['Promo']= df_un_cat['Promo'].astype('category')\n",
    "df_un_cat['SchoolHoliday'] = df_un_cat['SchoolHoliday'].astype('category')\n",
    "df_un_cat['month']= df_un_cat['month'].astype('category')\n",
    "df_un_cat['DayOfWeek']= df_un_cat['DayOfWeek'].astype('category')"
   ]
  },
  {
   "cell_type": "markdown",
   "metadata": {},
   "source": [
    "**Applying get_dummies** <br/>\n",
    "Dropping first dummy column is important to avoid collinearity, so drop_first is set to True"
   ]
  },
  {
   "cell_type": "code",
   "execution_count": 8,
   "metadata": {},
   "outputs": [],
   "source": [
    "df = pd.get_dummies(df_un_cat, drop_first=True)"
   ]
  },
  {
   "cell_type": "code",
   "execution_count": 9,
   "metadata": {},
   "outputs": [],
   "source": [
    "pd.options.display.max_columns = None"
   ]
  },
  {
   "cell_type": "code",
   "execution_count": 10,
   "metadata": {},
   "outputs": [
    {
     "data": {
      "text/html": [
       "<div>\n",
       "<style scoped>\n",
       "    .dataframe tbody tr th:only-of-type {\n",
       "        vertical-align: middle;\n",
       "    }\n",
       "\n",
       "    .dataframe tbody tr th {\n",
       "        vertical-align: top;\n",
       "    }\n",
       "\n",
       "    .dataframe thead th {\n",
       "        text-align: right;\n",
       "    }\n",
       "</style>\n",
       "<table border=\"1\" class=\"dataframe\">\n",
       "  <thead>\n",
       "    <tr style=\"text-align: right;\">\n",
       "      <th></th>\n",
       "      <th>DayOfWeek_2</th>\n",
       "      <th>DayOfWeek_3</th>\n",
       "      <th>DayOfWeek_4</th>\n",
       "      <th>DayOfWeek_5</th>\n",
       "      <th>DayOfWeek_6</th>\n",
       "      <th>DayOfWeek_7</th>\n",
       "      <th>Promo_1</th>\n",
       "      <th>StateHoliday_a</th>\n",
       "      <th>StateHoliday_b</th>\n",
       "      <th>StateHoliday_c</th>\n",
       "      <th>SchoolHoliday_1</th>\n",
       "      <th>StoreType_b</th>\n",
       "      <th>StoreType_c</th>\n",
       "      <th>StoreType_d</th>\n",
       "      <th>Assortment_b</th>\n",
       "      <th>Assortment_c</th>\n",
       "      <th>month_2</th>\n",
       "      <th>month_3</th>\n",
       "      <th>month_4</th>\n",
       "      <th>month_5</th>\n",
       "      <th>month_6</th>\n",
       "      <th>month_7</th>\n",
       "      <th>month_8</th>\n",
       "      <th>month_9</th>\n",
       "      <th>month_10</th>\n",
       "      <th>month_11</th>\n",
       "      <th>month_12</th>\n",
       "      <th>Season_Spring</th>\n",
       "      <th>Season_Summer</th>\n",
       "      <th>Season_Winter</th>\n",
       "    </tr>\n",
       "  </thead>\n",
       "  <tbody>\n",
       "    <tr>\n",
       "      <th>1</th>\n",
       "      <td>0</td>\n",
       "      <td>0</td>\n",
       "      <td>0</td>\n",
       "      <td>1</td>\n",
       "      <td>0</td>\n",
       "      <td>0</td>\n",
       "      <td>1</td>\n",
       "      <td>0</td>\n",
       "      <td>0</td>\n",
       "      <td>0</td>\n",
       "      <td>1</td>\n",
       "      <td>0</td>\n",
       "      <td>0</td>\n",
       "      <td>1</td>\n",
       "      <td>0</td>\n",
       "      <td>1</td>\n",
       "      <td>0</td>\n",
       "      <td>0</td>\n",
       "      <td>0</td>\n",
       "      <td>0</td>\n",
       "      <td>0</td>\n",
       "      <td>1</td>\n",
       "      <td>0</td>\n",
       "      <td>0</td>\n",
       "      <td>0</td>\n",
       "      <td>0</td>\n",
       "      <td>0</td>\n",
       "      <td>0</td>\n",
       "      <td>1</td>\n",
       "      <td>0</td>\n",
       "    </tr>\n",
       "    <tr>\n",
       "      <th>2</th>\n",
       "      <td>0</td>\n",
       "      <td>1</td>\n",
       "      <td>0</td>\n",
       "      <td>0</td>\n",
       "      <td>0</td>\n",
       "      <td>0</td>\n",
       "      <td>0</td>\n",
       "      <td>0</td>\n",
       "      <td>0</td>\n",
       "      <td>0</td>\n",
       "      <td>1</td>\n",
       "      <td>0</td>\n",
       "      <td>0</td>\n",
       "      <td>1</td>\n",
       "      <td>0</td>\n",
       "      <td>1</td>\n",
       "      <td>0</td>\n",
       "      <td>0</td>\n",
       "      <td>0</td>\n",
       "      <td>0</td>\n",
       "      <td>0</td>\n",
       "      <td>0</td>\n",
       "      <td>0</td>\n",
       "      <td>0</td>\n",
       "      <td>0</td>\n",
       "      <td>0</td>\n",
       "      <td>0</td>\n",
       "      <td>0</td>\n",
       "      <td>0</td>\n",
       "      <td>1</td>\n",
       "    </tr>\n",
       "    <tr>\n",
       "      <th>3</th>\n",
       "      <td>0</td>\n",
       "      <td>0</td>\n",
       "      <td>1</td>\n",
       "      <td>0</td>\n",
       "      <td>0</td>\n",
       "      <td>0</td>\n",
       "      <td>0</td>\n",
       "      <td>0</td>\n",
       "      <td>0</td>\n",
       "      <td>0</td>\n",
       "      <td>1</td>\n",
       "      <td>0</td>\n",
       "      <td>0</td>\n",
       "      <td>1</td>\n",
       "      <td>0</td>\n",
       "      <td>1</td>\n",
       "      <td>0</td>\n",
       "      <td>0</td>\n",
       "      <td>0</td>\n",
       "      <td>0</td>\n",
       "      <td>0</td>\n",
       "      <td>0</td>\n",
       "      <td>0</td>\n",
       "      <td>0</td>\n",
       "      <td>0</td>\n",
       "      <td>0</td>\n",
       "      <td>0</td>\n",
       "      <td>0</td>\n",
       "      <td>0</td>\n",
       "      <td>1</td>\n",
       "    </tr>\n",
       "    <tr>\n",
       "      <th>4</th>\n",
       "      <td>0</td>\n",
       "      <td>0</td>\n",
       "      <td>0</td>\n",
       "      <td>1</td>\n",
       "      <td>0</td>\n",
       "      <td>0</td>\n",
       "      <td>0</td>\n",
       "      <td>0</td>\n",
       "      <td>0</td>\n",
       "      <td>0</td>\n",
       "      <td>1</td>\n",
       "      <td>0</td>\n",
       "      <td>0</td>\n",
       "      <td>1</td>\n",
       "      <td>0</td>\n",
       "      <td>1</td>\n",
       "      <td>0</td>\n",
       "      <td>0</td>\n",
       "      <td>0</td>\n",
       "      <td>0</td>\n",
       "      <td>0</td>\n",
       "      <td>0</td>\n",
       "      <td>0</td>\n",
       "      <td>0</td>\n",
       "      <td>0</td>\n",
       "      <td>0</td>\n",
       "      <td>0</td>\n",
       "      <td>0</td>\n",
       "      <td>0</td>\n",
       "      <td>1</td>\n",
       "    </tr>\n",
       "    <tr>\n",
       "      <th>5</th>\n",
       "      <td>0</td>\n",
       "      <td>0</td>\n",
       "      <td>0</td>\n",
       "      <td>0</td>\n",
       "      <td>1</td>\n",
       "      <td>0</td>\n",
       "      <td>0</td>\n",
       "      <td>0</td>\n",
       "      <td>0</td>\n",
       "      <td>0</td>\n",
       "      <td>0</td>\n",
       "      <td>0</td>\n",
       "      <td>0</td>\n",
       "      <td>1</td>\n",
       "      <td>0</td>\n",
       "      <td>1</td>\n",
       "      <td>0</td>\n",
       "      <td>0</td>\n",
       "      <td>0</td>\n",
       "      <td>0</td>\n",
       "      <td>0</td>\n",
       "      <td>0</td>\n",
       "      <td>0</td>\n",
       "      <td>0</td>\n",
       "      <td>0</td>\n",
       "      <td>0</td>\n",
       "      <td>0</td>\n",
       "      <td>0</td>\n",
       "      <td>0</td>\n",
       "      <td>1</td>\n",
       "    </tr>\n",
       "  </tbody>\n",
       "</table>\n",
       "</div>"
      ],
      "text/plain": [
       "   DayOfWeek_2  DayOfWeek_3  DayOfWeek_4  DayOfWeek_5  DayOfWeek_6  \\\n",
       "1            0            0            0            1            0   \n",
       "2            0            1            0            0            0   \n",
       "3            0            0            1            0            0   \n",
       "4            0            0            0            1            0   \n",
       "5            0            0            0            0            1   \n",
       "\n",
       "   DayOfWeek_7  Promo_1  StateHoliday_a  StateHoliday_b  StateHoliday_c  \\\n",
       "1            0        1               0               0               0   \n",
       "2            0        0               0               0               0   \n",
       "3            0        0               0               0               0   \n",
       "4            0        0               0               0               0   \n",
       "5            0        0               0               0               0   \n",
       "\n",
       "   SchoolHoliday_1  StoreType_b  StoreType_c  StoreType_d  Assortment_b  \\\n",
       "1                1            0            0            1             0   \n",
       "2                1            0            0            1             0   \n",
       "3                1            0            0            1             0   \n",
       "4                1            0            0            1             0   \n",
       "5                0            0            0            1             0   \n",
       "\n",
       "   Assortment_c  month_2  month_3  month_4  month_5  month_6  month_7  \\\n",
       "1             1        0        0        0        0        0        1   \n",
       "2             1        0        0        0        0        0        0   \n",
       "3             1        0        0        0        0        0        0   \n",
       "4             1        0        0        0        0        0        0   \n",
       "5             1        0        0        0        0        0        0   \n",
       "\n",
       "   month_8  month_9  month_10  month_11  month_12  Season_Spring  \\\n",
       "1        0        0         0         0         0              0   \n",
       "2        0        0         0         0         0              0   \n",
       "3        0        0         0         0         0              0   \n",
       "4        0        0         0         0         0              0   \n",
       "5        0        0         0         0         0              0   \n",
       "\n",
       "   Season_Summer  Season_Winter  \n",
       "1              1              0  \n",
       "2              0              1  \n",
       "3              0              1  \n",
       "4              0              1  \n",
       "5              0              1  "
      ]
     },
     "execution_count": 10,
     "metadata": {},
     "output_type": "execute_result"
    }
   ],
   "source": [
    "df.head()"
   ]
  },
  {
   "cell_type": "markdown",
   "metadata": {},
   "source": [
    "**Adding continuos variables to encoded categorical**"
   ]
  },
  {
   "cell_type": "code",
   "execution_count": 11,
   "metadata": {},
   "outputs": [],
   "source": [
    "X = pd.merge(df, df_un_non_cat, left_index=True, right_index=True)"
   ]
  },
  {
   "cell_type": "markdown",
   "metadata": {},
   "source": [
    "**Final dataset**"
   ]
  },
  {
   "cell_type": "code",
   "execution_count": 12,
   "metadata": {},
   "outputs": [
    {
     "data": {
      "text/html": [
       "<div>\n",
       "<style scoped>\n",
       "    .dataframe tbody tr th:only-of-type {\n",
       "        vertical-align: middle;\n",
       "    }\n",
       "\n",
       "    .dataframe tbody tr th {\n",
       "        vertical-align: top;\n",
       "    }\n",
       "\n",
       "    .dataframe thead th {\n",
       "        text-align: right;\n",
       "    }\n",
       "</style>\n",
       "<table border=\"1\" class=\"dataframe\">\n",
       "  <thead>\n",
       "    <tr style=\"text-align: right;\">\n",
       "      <th></th>\n",
       "      <th>DayOfWeek_2</th>\n",
       "      <th>DayOfWeek_3</th>\n",
       "      <th>DayOfWeek_4</th>\n",
       "      <th>DayOfWeek_5</th>\n",
       "      <th>DayOfWeek_6</th>\n",
       "      <th>DayOfWeek_7</th>\n",
       "      <th>Promo_1</th>\n",
       "      <th>StateHoliday_a</th>\n",
       "      <th>StateHoliday_b</th>\n",
       "      <th>StateHoliday_c</th>\n",
       "      <th>SchoolHoliday_1</th>\n",
       "      <th>StoreType_b</th>\n",
       "      <th>StoreType_c</th>\n",
       "      <th>StoreType_d</th>\n",
       "      <th>Assortment_b</th>\n",
       "      <th>Assortment_c</th>\n",
       "      <th>month_2</th>\n",
       "      <th>month_3</th>\n",
       "      <th>month_4</th>\n",
       "      <th>month_5</th>\n",
       "      <th>month_6</th>\n",
       "      <th>month_7</th>\n",
       "      <th>month_8</th>\n",
       "      <th>month_9</th>\n",
       "      <th>month_10</th>\n",
       "      <th>month_11</th>\n",
       "      <th>month_12</th>\n",
       "      <th>Season_Spring</th>\n",
       "      <th>Season_Summer</th>\n",
       "      <th>Season_Winter</th>\n",
       "      <th>CompetitionDistance</th>\n",
       "    </tr>\n",
       "  </thead>\n",
       "  <tbody>\n",
       "    <tr>\n",
       "      <th>1</th>\n",
       "      <td>0</td>\n",
       "      <td>0</td>\n",
       "      <td>0</td>\n",
       "      <td>1</td>\n",
       "      <td>0</td>\n",
       "      <td>0</td>\n",
       "      <td>1</td>\n",
       "      <td>0</td>\n",
       "      <td>0</td>\n",
       "      <td>0</td>\n",
       "      <td>1</td>\n",
       "      <td>0</td>\n",
       "      <td>0</td>\n",
       "      <td>1</td>\n",
       "      <td>0</td>\n",
       "      <td>1</td>\n",
       "      <td>0</td>\n",
       "      <td>0</td>\n",
       "      <td>0</td>\n",
       "      <td>0</td>\n",
       "      <td>0</td>\n",
       "      <td>1</td>\n",
       "      <td>0</td>\n",
       "      <td>0</td>\n",
       "      <td>0</td>\n",
       "      <td>0</td>\n",
       "      <td>0</td>\n",
       "      <td>0</td>\n",
       "      <td>1</td>\n",
       "      <td>0</td>\n",
       "      <td>4610.0</td>\n",
       "    </tr>\n",
       "    <tr>\n",
       "      <th>2</th>\n",
       "      <td>0</td>\n",
       "      <td>1</td>\n",
       "      <td>0</td>\n",
       "      <td>0</td>\n",
       "      <td>0</td>\n",
       "      <td>0</td>\n",
       "      <td>0</td>\n",
       "      <td>0</td>\n",
       "      <td>0</td>\n",
       "      <td>0</td>\n",
       "      <td>1</td>\n",
       "      <td>0</td>\n",
       "      <td>0</td>\n",
       "      <td>1</td>\n",
       "      <td>0</td>\n",
       "      <td>1</td>\n",
       "      <td>0</td>\n",
       "      <td>0</td>\n",
       "      <td>0</td>\n",
       "      <td>0</td>\n",
       "      <td>0</td>\n",
       "      <td>0</td>\n",
       "      <td>0</td>\n",
       "      <td>0</td>\n",
       "      <td>0</td>\n",
       "      <td>0</td>\n",
       "      <td>0</td>\n",
       "      <td>0</td>\n",
       "      <td>0</td>\n",
       "      <td>1</td>\n",
       "      <td>4610.0</td>\n",
       "    </tr>\n",
       "    <tr>\n",
       "      <th>3</th>\n",
       "      <td>0</td>\n",
       "      <td>0</td>\n",
       "      <td>1</td>\n",
       "      <td>0</td>\n",
       "      <td>0</td>\n",
       "      <td>0</td>\n",
       "      <td>0</td>\n",
       "      <td>0</td>\n",
       "      <td>0</td>\n",
       "      <td>0</td>\n",
       "      <td>1</td>\n",
       "      <td>0</td>\n",
       "      <td>0</td>\n",
       "      <td>1</td>\n",
       "      <td>0</td>\n",
       "      <td>1</td>\n",
       "      <td>0</td>\n",
       "      <td>0</td>\n",
       "      <td>0</td>\n",
       "      <td>0</td>\n",
       "      <td>0</td>\n",
       "      <td>0</td>\n",
       "      <td>0</td>\n",
       "      <td>0</td>\n",
       "      <td>0</td>\n",
       "      <td>0</td>\n",
       "      <td>0</td>\n",
       "      <td>0</td>\n",
       "      <td>0</td>\n",
       "      <td>1</td>\n",
       "      <td>4610.0</td>\n",
       "    </tr>\n",
       "    <tr>\n",
       "      <th>4</th>\n",
       "      <td>0</td>\n",
       "      <td>0</td>\n",
       "      <td>0</td>\n",
       "      <td>1</td>\n",
       "      <td>0</td>\n",
       "      <td>0</td>\n",
       "      <td>0</td>\n",
       "      <td>0</td>\n",
       "      <td>0</td>\n",
       "      <td>0</td>\n",
       "      <td>1</td>\n",
       "      <td>0</td>\n",
       "      <td>0</td>\n",
       "      <td>1</td>\n",
       "      <td>0</td>\n",
       "      <td>1</td>\n",
       "      <td>0</td>\n",
       "      <td>0</td>\n",
       "      <td>0</td>\n",
       "      <td>0</td>\n",
       "      <td>0</td>\n",
       "      <td>0</td>\n",
       "      <td>0</td>\n",
       "      <td>0</td>\n",
       "      <td>0</td>\n",
       "      <td>0</td>\n",
       "      <td>0</td>\n",
       "      <td>0</td>\n",
       "      <td>0</td>\n",
       "      <td>1</td>\n",
       "      <td>4610.0</td>\n",
       "    </tr>\n",
       "    <tr>\n",
       "      <th>5</th>\n",
       "      <td>0</td>\n",
       "      <td>0</td>\n",
       "      <td>0</td>\n",
       "      <td>0</td>\n",
       "      <td>1</td>\n",
       "      <td>0</td>\n",
       "      <td>0</td>\n",
       "      <td>0</td>\n",
       "      <td>0</td>\n",
       "      <td>0</td>\n",
       "      <td>0</td>\n",
       "      <td>0</td>\n",
       "      <td>0</td>\n",
       "      <td>1</td>\n",
       "      <td>0</td>\n",
       "      <td>1</td>\n",
       "      <td>0</td>\n",
       "      <td>0</td>\n",
       "      <td>0</td>\n",
       "      <td>0</td>\n",
       "      <td>0</td>\n",
       "      <td>0</td>\n",
       "      <td>0</td>\n",
       "      <td>0</td>\n",
       "      <td>0</td>\n",
       "      <td>0</td>\n",
       "      <td>0</td>\n",
       "      <td>0</td>\n",
       "      <td>0</td>\n",
       "      <td>1</td>\n",
       "      <td>4610.0</td>\n",
       "    </tr>\n",
       "  </tbody>\n",
       "</table>\n",
       "</div>"
      ],
      "text/plain": [
       "   DayOfWeek_2  DayOfWeek_3  DayOfWeek_4  DayOfWeek_5  DayOfWeek_6  \\\n",
       "1            0            0            0            1            0   \n",
       "2            0            1            0            0            0   \n",
       "3            0            0            1            0            0   \n",
       "4            0            0            0            1            0   \n",
       "5            0            0            0            0            1   \n",
       "\n",
       "   DayOfWeek_7  Promo_1  StateHoliday_a  StateHoliday_b  StateHoliday_c  \\\n",
       "1            0        1               0               0               0   \n",
       "2            0        0               0               0               0   \n",
       "3            0        0               0               0               0   \n",
       "4            0        0               0               0               0   \n",
       "5            0        0               0               0               0   \n",
       "\n",
       "   SchoolHoliday_1  StoreType_b  StoreType_c  StoreType_d  Assortment_b  \\\n",
       "1                1            0            0            1             0   \n",
       "2                1            0            0            1             0   \n",
       "3                1            0            0            1             0   \n",
       "4                1            0            0            1             0   \n",
       "5                0            0            0            1             0   \n",
       "\n",
       "   Assortment_c  month_2  month_3  month_4  month_5  month_6  month_7  \\\n",
       "1             1        0        0        0        0        0        1   \n",
       "2             1        0        0        0        0        0        0   \n",
       "3             1        0        0        0        0        0        0   \n",
       "4             1        0        0        0        0        0        0   \n",
       "5             1        0        0        0        0        0        0   \n",
       "\n",
       "   month_8  month_9  month_10  month_11  month_12  Season_Spring  \\\n",
       "1        0        0         0         0         0              0   \n",
       "2        0        0         0         0         0              0   \n",
       "3        0        0         0         0         0              0   \n",
       "4        0        0         0         0         0              0   \n",
       "5        0        0         0         0         0              0   \n",
       "\n",
       "   Season_Summer  Season_Winter  CompetitionDistance  \n",
       "1              1              0               4610.0  \n",
       "2              0              1               4610.0  \n",
       "3              0              1               4610.0  \n",
       "4              0              1               4610.0  \n",
       "5              0              1               4610.0  "
      ]
     },
     "execution_count": 12,
     "metadata": {},
     "output_type": "execute_result"
    }
   ],
   "source": [
    "X.head()"
   ]
  },
  {
   "cell_type": "markdown",
   "metadata": {},
   "source": [
    "### Creation of a Neural Network"
   ]
  },
  {
   "cell_type": "markdown",
   "metadata": {},
   "source": [
    "**Train/test split**"
   ]
  },
  {
   "cell_type": "code",
   "execution_count": 13,
   "metadata": {},
   "outputs": [],
   "source": [
    "from sklearn.model_selection import train_test_split\n",
    "X_train, X_test, y_train, y_test = train_test_split(df, y, test_size = 0.2)"
   ]
  },
  {
   "cell_type": "markdown",
   "metadata": {},
   "source": [
    "**Feature Scaling**"
   ]
  },
  {
   "cell_type": "code",
   "execution_count": 14,
   "metadata": {},
   "outputs": [],
   "source": [
    "from sklearn.preprocessing import StandardScaler\n",
    "sc = StandardScaler()\n",
    "X_train = sc.fit_transform(X_train)\n",
    "X_test = sc.transform(X_test)"
   ]
  },
  {
   "cell_type": "markdown",
   "metadata": {},
   "source": [
    "**Importing the Keras libraries and packages**"
   ]
  },
  {
   "cell_type": "code",
   "execution_count": 15,
   "metadata": {},
   "outputs": [
    {
     "name": "stderr",
     "output_type": "stream",
     "text": [
      "Using TensorFlow backend.\n"
     ]
    }
   ],
   "source": [
    "import keras\n",
    "from keras.models import Sequential\n",
    "from keras.layers import Dense\n",
    "from keras.layers import Dropout"
   ]
  },
  {
   "cell_type": "markdown",
   "metadata": {},
   "source": [
    "### Predicting sales of Rossmann shops per day"
   ]
  },
  {
   "cell_type": "markdown",
   "metadata": {},
   "source": [
    "**How the model will look like:** <br/>\n",
    "5 layers, each has 96 neurons, small dropout to prevent overfitting, relu as an activator, mean squared error as loss function, adam as an optimizer, 15 epochs."
   ]
  },
  {
   "cell_type": "code",
   "execution_count": 16,
   "metadata": {},
   "outputs": [
    {
     "name": "stdout",
     "output_type": "stream",
     "text": [
      "Epoch 1/15\n",
      "673764/673764 [==============================] - 13s 19us/step - loss: 52987611.2091 - mean_squared_error: 52987611.2091 - mean_absolute_error: 6544.9943 - mean_absolute_percentage_error: 26674004.5298\n",
      "Epoch 2/15\n",
      "673764/673764 [==============================] - 14s 21us/step - loss: 9117003.9522 - mean_squared_error: 9117003.9522 - mean_absolute_error: 2195.7987 - mean_absolute_percentage_error: 461463964.4931\n",
      "Epoch 3/15\n",
      "673764/673764 [==============================] - 13s 20us/step - loss: 7887833.1973 - mean_squared_error: 7887833.1973 - mean_absolute_error: 2046.2621 - mean_absolute_percentage_error: 452572975.5331\n",
      "Epoch 4/15\n",
      "673764/673764 [==============================] - 13s 20us/step - loss: 7785916.8853 - mean_squared_error: 7785916.8853 - mean_absolute_error: 2030.5539 - mean_absolute_percentage_error: 443062738.4014\n",
      "Epoch 5/15\n",
      "673764/673764 [==============================] - 15s 23us/step - loss: 7734546.3853 - mean_squared_error: 7734546.3853 - mean_absolute_error: 2022.9094 - mean_absolute_percentage_error: 450890027.3082\n",
      "Epoch 6/15\n",
      "673764/673764 [==============================] - 13s 20us/step - loss: 7689480.9909 - mean_squared_error: 7689480.9909 - mean_absolute_error: 2015.6186 - mean_absolute_percentage_error: 439359591.8312\n",
      "Epoch 7/15\n",
      "673764/673764 [==============================] - 13s 20us/step - loss: 7650397.4144 - mean_squared_error: 7650397.4144 - mean_absolute_error: 2009.4008 - mean_absolute_percentage_error: 448712348.90703s - loss: 7666264.6837 - mean_squared_error: 7666264.6837 - mean_absolute_error: 2010.8361 - mean_absolute_percentage_error:  - ETA: 2s - loss: 7660844.6429 - mean_squared_error: 7660844.6429 - mean_absolute_error: 2010.7851 - mean_absolute_percenta\n",
      "Epoch 8/15\n",
      "673764/673764 [==============================] - 14s 21us/step - loss: 7615763.5031 - mean_squared_error: 7615763.5031 - mean_absolute_error: 2003.2561 - mean_absolute_percentage_error: 445686184.55488s - loss: 7666791.7222 - mean_squared_error: 7666791.7222\n",
      "Epoch 9/15\n",
      "673764/673764 [==============================] - 14s 21us/step - loss: 7588622.9197 - mean_squared_error: 7588622.9197 - mean_absolute_error: 1998.6225 - mean_absolute_percentage_error: 448924305.2814\n",
      "Epoch 10/15\n",
      "673764/673764 [==============================] - 16s 24us/step - loss: 7577212.8953 - mean_squared_error: 7577212.8953 - mean_absolute_error: 1996.9520 - mean_absolute_percentage_error: 450400232.8444\n",
      "Epoch 11/15\n",
      "673764/673764 [==============================] - 15s 22us/step - loss: 7557082.5979 - mean_squared_error: 7557082.5979 - mean_absolute_error: 1993.4493 - mean_absolute_percentage_error: 455791863.3235\n",
      "Epoch 12/15\n",
      "673764/673764 [==============================] - 15s 22us/step - loss: 7550350.7339 - mean_squared_error: 7550350.7339 - mean_absolute_error: 1992.2672 - mean_absolute_percentage_error: 447933901.2123\n",
      "Epoch 13/15\n",
      "673764/673764 [==============================] - 15s 22us/step - loss: 7540626.7996 - mean_squared_error: 7540626.7996 - mean_absolute_error: 1990.1583 - mean_absolute_percentage_error: 455972562.0344\n",
      "Epoch 14/15\n",
      "673764/673764 [==============================] - 14s 20us/step - loss: 7526775.8083 - mean_squared_error: 7526775.8083 - mean_absolute_error: 1988.2497 - mean_absolute_percentage_error: 465239196.40311s - loss: 7542165.0887 - mean_squared_error: 7542165.0887 - mean_absolute_error: 1989.1682 - mean_absolute_percentage_error: 44\n",
      "Epoch 15/15\n",
      "673764/673764 [==============================] - 13s 20us/step - loss: 7521704.8920 - mean_squared_error: 7521704.8920 - mean_absolute_error: 1986.7170 - mean_absolute_percentage_error: 461258068.0457\n"
     ]
    }
   ],
   "source": [
    "# Initialising the ANN\n",
    "model = Sequential()    \n",
    "model.add(Dense(units = 96, kernel_initializer = 'uniform', activation = 'relu', input_dim = 30))\n",
    "model.add(Dropout(p = 0.1))\n",
    "model.add(Dense(units = 96, kernel_initializer = 'uniform', activation = 'relu'))\n",
    "model.add(Dropout(p = 0.1))\n",
    "model.add(Dense(units = 96, kernel_initializer = 'uniform', activation = 'relu'))\n",
    "model.add(Dropout(p = 0.1))\n",
    "model.add(Dense(units = 96, kernel_initializer = 'uniform', activation = 'relu'))\n",
    "model.add(Dropout(p = 0.1))\n",
    "model.add(Dense(units = 96, kernel_initializer = 'uniform', activation = 'relu'))\n",
    "model.add(Dropout(p = 0.1))\n",
    "model.add(Dense(units = 1, kernel_initializer = 'uniform', activation='linear'))\n",
    "model.compile(loss='mse', optimizer='adam', metrics=['mse', 'mae', 'mape'])\n",
    "history = model.fit(X_train, y_train, batch_size = 10000, epochs = 15)"
   ]
  },
  {
   "cell_type": "markdown",
   "metadata": {},
   "source": [
    "**MSE plot**"
   ]
  },
  {
   "cell_type": "code",
   "execution_count": 17,
   "metadata": {},
   "outputs": [
    {
     "data": {
      "text/plain": [
       "[<matplotlib.lines.Line2D at 0x2298e101a20>]"
      ]
     },
     "execution_count": 17,
     "metadata": {},
     "output_type": "execute_result"
    },
    {
     "data": {
      "image/png": "[encoded data removed]",
      "text/plain": [
       "<Figure size 432x288 with 1 Axes>"
      ]
     },
     "metadata": {},
     "output_type": "display_data"
    }
   ],
   "source": [
    "plt.plot(history.history['mean_squared_error'])"
   ]
  },
  {
   "cell_type": "markdown",
   "metadata": {},
   "source": [
    "**MAE plot**"
   ]
  },
  {
   "cell_type": "code",
   "execution_count": 18,
   "metadata": {},
   "outputs": [
    {
     "data": {
      "text/plain": [
       "[<matplotlib.lines.Line2D at 0x2298e1f21d0>]"
      ]
     },
     "execution_count": 18,
     "metadata": {},
     "output_type": "execute_result"
    },
    {
     "data": {
      "image/png": "[encoded data removed]",
      "text/plain": [
       "<Figure size 432x288 with 1 Axes>"
      ]
     },
     "metadata": {},
     "output_type": "display_data"
    }
   ],
   "source": [
    "plt.plot(history.history['mean_absolute_error'])"
   ]
  },
  {
   "cell_type": "markdown",
   "metadata": {},
   "source": [
    "**R-squared of a model**"
   ]
  },
  {
   "cell_type": "code",
   "execution_count": 19,
   "metadata": {},
   "outputs": [
    {
     "data": {
      "text/plain": [
       "0.2669489140493173"
      ]
     },
     "execution_count": 19,
     "metadata": {},
     "output_type": "execute_result"
    }
   ],
   "source": [
    "y_pred = model.predict(X_test)\n",
    "from sklearn.metrics import r2_score\n",
    "r2_score(y_test, y_pred) "
   ]
  },
  {
   "cell_type": "markdown",
   "metadata": {},
   "source": [
    "**MSE of a model**"
   ]
  },
  {
   "cell_type": "code",
   "execution_count": 20,
   "metadata": {},
   "outputs": [
    {
     "data": {
      "text/plain": [
       "6949635.98763258"
      ]
     },
     "execution_count": 20,
     "metadata": {},
     "output_type": "execute_result"
    }
   ],
   "source": [
    "from sklearn.metrics import mean_squared_error\n",
    "mean_squared_error(y_test, y_pred)"
   ]
  },
  {
   "cell_type": "markdown",
   "metadata": {},
   "source": [
    "**MAE of a model**"
   ]
  },
  {
   "cell_type": "code",
   "execution_count": 21,
   "metadata": {},
   "outputs": [
    {
     "data": {
      "text/plain": [
       "1911.8552002898136"
      ]
     },
     "execution_count": 21,
     "metadata": {},
     "output_type": "execute_result"
    }
   ],
   "source": [
    "from sklearn.metrics import mean_absolute_error\n",
    "mean_absolute_error(y_test, y_pred)"
   ]
  },
  {
   "cell_type": "markdown",
   "metadata": {},
   "source": [
    "**A table that compares real and predicted values**"
   ]
  },
  {
   "cell_type": "code",
   "execution_count": 22,
   "metadata": {},
   "outputs": [
    {
     "data": {
      "text/html": [
       "<div>\n",
       "<style scoped>\n",
       "    .dataframe tbody tr th:only-of-type {\n",
       "        vertical-align: middle;\n",
       "    }\n",
       "\n",
       "    .dataframe tbody tr th {\n",
       "        vertical-align: top;\n",
       "    }\n",
       "\n",
       "    .dataframe thead th {\n",
       "        text-align: right;\n",
       "    }\n",
       "</style>\n",
       "<table border=\"1\" class=\"dataframe\">\n",
       "  <thead>\n",
       "    <tr style=\"text-align: right;\">\n",
       "      <th></th>\n",
       "      <th>y_test</th>\n",
       "      <th>final_preds</th>\n",
       "    </tr>\n",
       "  </thead>\n",
       "  <tbody>\n",
       "    <tr>\n",
       "      <th>0</th>\n",
       "      <td>6397</td>\n",
       "      <td>6027.0</td>\n",
       "    </tr>\n",
       "    <tr>\n",
       "      <th>1</th>\n",
       "      <td>8123</td>\n",
       "      <td>6485.0</td>\n",
       "    </tr>\n",
       "    <tr>\n",
       "      <th>2</th>\n",
       "      <td>10168</td>\n",
       "      <td>7633.0</td>\n",
       "    </tr>\n",
       "    <tr>\n",
       "      <th>3</th>\n",
       "      <td>7270</td>\n",
       "      <td>6309.0</td>\n",
       "    </tr>\n",
       "    <tr>\n",
       "      <th>4</th>\n",
       "      <td>7757</td>\n",
       "      <td>5395.0</td>\n",
       "    </tr>\n",
       "    <tr>\n",
       "      <th>5</th>\n",
       "      <td>5626</td>\n",
       "      <td>6998.0</td>\n",
       "    </tr>\n",
       "    <tr>\n",
       "      <th>6</th>\n",
       "      <td>3724</td>\n",
       "      <td>5803.0</td>\n",
       "    </tr>\n",
       "    <tr>\n",
       "      <th>7</th>\n",
       "      <td>13033</td>\n",
       "      <td>9354.0</td>\n",
       "    </tr>\n",
       "    <tr>\n",
       "      <th>8</th>\n",
       "      <td>6674</td>\n",
       "      <td>6813.0</td>\n",
       "    </tr>\n",
       "    <tr>\n",
       "      <th>9</th>\n",
       "      <td>13137</td>\n",
       "      <td>7927.0</td>\n",
       "    </tr>\n",
       "  </tbody>\n",
       "</table>\n",
       "</div>"
      ],
      "text/plain": [
       "   y_test  final_preds\n",
       "0    6397       6027.0\n",
       "1    8123       6485.0\n",
       "2   10168       7633.0\n",
       "3    7270       6309.0\n",
       "4    7757       5395.0\n",
       "5    5626       6998.0\n",
       "6    3724       5803.0\n",
       "7   13033       9354.0\n",
       "8    6674       6813.0\n",
       "9   13137       7927.0"
      ]
     },
     "execution_count": 22,
     "metadata": {},
     "output_type": "execute_result"
    }
   ],
   "source": [
    "final_preds = []\n",
    "for pred in y_pred:\n",
    "    final_preds.append(pred[0])\n",
    "\n",
    "y_test_pr = []\n",
    "for pred in y_test:\n",
    "    y_test_pr.append(pred)\n",
    "\n",
    "d = {'y_test': y_test_pr, 'final_preds': final_preds}\n",
    "pd.DataFrame(data=d).round(0)[:10]"
   ]
  },
  {
   "cell_type": "markdown",
   "metadata": {},
   "source": [
    "### Predicting customers of Rossmann shops per day"
   ]
  },
  {
   "cell_type": "code",
   "execution_count": 30,
   "metadata": {},
   "outputs": [],
   "source": [
    "from sklearn.model_selection import train_test_split\n",
    "X_train, X_test, y_train, y_test = train_test_split(df, y_2, test_size = 0.2)"
   ]
  },
  {
   "cell_type": "markdown",
   "metadata": {},
   "source": [
    "**Feature Scaling**"
   ]
  },
  {
   "cell_type": "code",
   "execution_count": 31,
   "metadata": {},
   "outputs": [],
   "source": [
    "from sklearn.preprocessing import StandardScaler\n",
    "sc = StandardScaler()\n",
    "X_train = sc.fit_transform(X_train)\n",
    "X_test = sc.transform(X_test)"
   ]
  },
  {
   "cell_type": "code",
   "execution_count": 32,
   "metadata": {},
   "outputs": [
    {
     "name": "stdout",
     "output_type": "stream",
     "text": [
      "Epoch 1/15\n",
      "673764/673764 [==============================] - 15s 22us/step - loss: 594856.2430 - mean_squared_error: 594856.2430 - mean_absolute_error: 646.6281 - mean_absolute_percentage_error: 11562664.0900 - loss: 744521.4668 - mean_squared_error: 744521.4668 - mean_absolute_error: \n",
      "Epoch 2/15\n",
      "673764/673764 [==============================] - 13s 19us/step - loss: 128110.0609 - mean_squared_error: 128110.0609 - mean_absolute_error: 243.9137 - mean_absolute_percentage_error: 49525179.9691\n",
      "Epoch 3/15\n",
      "673764/673764 [==============================] - 13s 19us/step - loss: 120119.1534 - mean_squared_error: 120119.1534 - mean_absolute_error: 238.2204 - mean_absolute_percentage_error: 51319970.3562\n",
      "Epoch 4/15\n",
      "673764/673764 [==============================] - 13s 19us/step - loss: 118889.0103 - mean_squared_error: 118889.0103 - mean_absolute_error: 236.8831 - mean_absolute_percentage_error: 51751841.86489s - loss: 119703.7682 - mean_\n",
      "Epoch 5/15\n",
      "673764/673764 [==============================] - 13s 19us/step - loss: 118436.3699 - mean_squared_error: 118436.3699 - mean_absolute_error: 236.1597 - mean_absolute_percentage_error: 51595504.5250\n",
      "Epoch 6/15\n",
      "673764/673764 [==============================] - 13s 19us/step - loss: 117836.2788 - mean_squared_error: 117836.2788 - mean_absolute_error: 235.5189 - mean_absolute_percentage_error: 50133732.3387\n",
      "Epoch 7/15\n",
      "673764/673764 [==============================] - 15s 22us/step - loss: 117536.1460 - mean_squared_error: 117536.1460 - mean_absolute_error: 235.0314 - mean_absolute_percentage_error: 50217143.56897s - loss: 116476.6435 - mean_squared_error: 116476.6435 - m\n",
      "Epoch 8/15\n",
      "673764/673764 [==============================] - 19s 28us/step - loss: 117318.8183 - mean_squared_error: 117318.8183 - mean_absolute_error: 234.7863 - mean_absolute_percentage_error: 51914800.3889\n",
      "Epoch 9/15\n",
      "673764/673764 [==============================] - 18s 26us/step - loss: 117227.8014 - mean_squared_error: 117227.8014 - mean_absolute_error: 234.5484 - mean_absolute_percentage_error: 49689070.2143\n",
      "Epoch 10/15\n",
      "673764/673764 [==============================] - 19s 28us/step - loss: 116872.7239 - mean_squared_error: 116872.7239 - mean_absolute_error: 234.2800 - mean_absolute_percentage_error: 51829955.4436\n",
      "Epoch 11/15\n",
      "673764/673764 [==============================] - 20s 29us/step - loss: 116627.2189 - mean_squared_error: 116627.2189 - mean_absolute_error: 234.0391 - mean_absolute_percentage_error: 51162157.7671\n",
      "Epoch 12/15\n",
      "673764/673764 [==============================] - 17s 25us/step - loss: 116637.2613 - mean_squared_error: 116637.2613 - mean_absolute_error: 233.9995 - mean_absolute_percentage_error: 52263084.1833\n",
      "Epoch 13/15\n",
      "673764/673764 [==============================] - 16s 23us/step - loss: 116421.4444 - mean_squared_error: 116421.4444 - mean_absolute_error: 233.8766 - mean_absolute_percentage_error: 49556634.0550\n",
      "Epoch 14/15\n",
      "673764/673764 [==============================] - 15s 23us/step - loss: 116296.5473 - mean_squared_error: 116296.5473 - mean_absolute_error: 233.7648 - mean_absolute_percentage_error: 50318545.96884s - loss: 116414.4856 - mean_squared_error: 116414.4856 - mean_absolute_error: 233.7413 - m\n",
      "Epoch 15/15\n",
      "673764/673764 [==============================] - 15s 23us/step - loss: 116261.3080 - mean_squared_error: 116261.3080 - mean_absolute_error: 233.5814 - mean_absolute_percentage_error: 50369694.6934\n"
     ]
    }
   ],
   "source": [
    "# Initialising the ANN\n",
    "model = Sequential()    \n",
    "model.add(Dense(units = 96, kernel_initializer = 'uniform', activation = 'relu', input_dim = 30))\n",
    "model.add(Dropout(p = 0.1))\n",
    "model.add(Dense(units = 96, kernel_initializer = 'uniform', activation = 'relu'))\n",
    "model.add(Dropout(p = 0.1))\n",
    "model.add(Dense(units = 96, kernel_initializer = 'uniform', activation = 'relu'))\n",
    "model.add(Dropout(p = 0.1))\n",
    "model.add(Dense(units = 96, kernel_initializer = 'uniform', activation = 'relu'))\n",
    "model.add(Dropout(p = 0.1))\n",
    "model.add(Dense(units = 96, kernel_initializer = 'uniform', activation = 'relu'))\n",
    "model.add(Dropout(p = 0.1))\n",
    "model.add(Dense(units = 1, kernel_initializer = 'uniform', activation='linear'))\n",
    "model.compile(loss='mse', optimizer='adam', metrics=['mse', 'mae', 'mape'])\n",
    "history = model.fit(X_train, y_train, batch_size = 10000, epochs = 15)"
   ]
  },
  {
   "cell_type": "markdown",
   "metadata": {},
   "source": [
    "**R-squared of a model**"
   ]
  },
  {
   "cell_type": "code",
   "execution_count": 33,
   "metadata": {},
   "outputs": [
    {
     "data": {
      "text/plain": [
       "0.3175307068493741"
      ]
     },
     "execution_count": 33,
     "metadata": {},
     "output_type": "execute_result"
    }
   ],
   "source": [
    "y_pred = model.predict(X_test)\n",
    "from sklearn.metrics import r2_score\n",
    "r2_score(y_test, y_pred) "
   ]
  },
  {
   "cell_type": "markdown",
   "metadata": {},
   "source": [
    "**MSE of a model**"
   ]
  },
  {
   "cell_type": "code",
   "execution_count": 34,
   "metadata": {},
   "outputs": [
    {
     "data": {
      "text/plain": [
       "108527.08177650992"
      ]
     },
     "execution_count": 34,
     "metadata": {},
     "output_type": "execute_result"
    }
   ],
   "source": [
    "from sklearn.metrics import mean_squared_error\n",
    "mean_squared_error(y_test, y_pred)"
   ]
  },
  {
   "cell_type": "markdown",
   "metadata": {},
   "source": [
    "**MAE of a model**"
   ]
  },
  {
   "cell_type": "code",
   "execution_count": 35,
   "metadata": {},
   "outputs": [
    {
     "data": {
      "text/plain": [
       "225.10123566703268"
      ]
     },
     "execution_count": 35,
     "metadata": {},
     "output_type": "execute_result"
    }
   ],
   "source": [
    "from sklearn.metrics import mean_absolute_error\n",
    "mean_absolute_error(y_test, y_pred)"
   ]
  },
  {
   "cell_type": "markdown",
   "metadata": {},
   "source": [
    "**A table that compares real and predicted values**"
   ]
  },
  {
   "cell_type": "code",
   "execution_count": 36,
   "metadata": {},
   "outputs": [
    {
     "data": {
      "text/html": [
       "<div>\n",
       "<style scoped>\n",
       "    .dataframe tbody tr th:only-of-type {\n",
       "        vertical-align: middle;\n",
       "    }\n",
       "\n",
       "    .dataframe tbody tr th {\n",
       "        vertical-align: top;\n",
       "    }\n",
       "\n",
       "    .dataframe thead th {\n",
       "        text-align: right;\n",
       "    }\n",
       "</style>\n",
       "<table border=\"1\" class=\"dataframe\">\n",
       "  <thead>\n",
       "    <tr style=\"text-align: right;\">\n",
       "      <th></th>\n",
       "      <th>y_test</th>\n",
       "      <th>final_preds</th>\n",
       "    </tr>\n",
       "  </thead>\n",
       "  <tbody>\n",
       "    <tr>\n",
       "      <th>0</th>\n",
       "      <td>932</td>\n",
       "      <td>627.0</td>\n",
       "    </tr>\n",
       "    <tr>\n",
       "      <th>1</th>\n",
       "      <td>1790</td>\n",
       "      <td>846.0</td>\n",
       "    </tr>\n",
       "    <tr>\n",
       "      <th>2</th>\n",
       "      <td>617</td>\n",
       "      <td>695.0</td>\n",
       "    </tr>\n",
       "    <tr>\n",
       "      <th>3</th>\n",
       "      <td>512</td>\n",
       "      <td>569.0</td>\n",
       "    </tr>\n",
       "    <tr>\n",
       "      <th>4</th>\n",
       "      <td>957</td>\n",
       "      <td>812.0</td>\n",
       "    </tr>\n",
       "    <tr>\n",
       "      <th>5</th>\n",
       "      <td>556</td>\n",
       "      <td>577.0</td>\n",
       "    </tr>\n",
       "    <tr>\n",
       "      <th>6</th>\n",
       "      <td>887</td>\n",
       "      <td>869.0</td>\n",
       "    </tr>\n",
       "    <tr>\n",
       "      <th>7</th>\n",
       "      <td>330</td>\n",
       "      <td>613.0</td>\n",
       "    </tr>\n",
       "    <tr>\n",
       "      <th>8</th>\n",
       "      <td>421</td>\n",
       "      <td>801.0</td>\n",
       "    </tr>\n",
       "    <tr>\n",
       "      <th>9</th>\n",
       "      <td>743</td>\n",
       "      <td>576.0</td>\n",
       "    </tr>\n",
       "  </tbody>\n",
       "</table>\n",
       "</div>"
      ],
      "text/plain": [
       "   y_test  final_preds\n",
       "0     932        627.0\n",
       "1    1790        846.0\n",
       "2     617        695.0\n",
       "3     512        569.0\n",
       "4     957        812.0\n",
       "5     556        577.0\n",
       "6     887        869.0\n",
       "7     330        613.0\n",
       "8     421        801.0\n",
       "9     743        576.0"
      ]
     },
     "execution_count": 36,
     "metadata": {},
     "output_type": "execute_result"
    }
   ],
   "source": [
    "final_preds = []\n",
    "for pred in y_pred:\n",
    "    final_preds.append(pred[0])\n",
    "\n",
    "y_test_pr = []\n",
    "for pred in y_test:\n",
    "    y_test_pr.append(pred)\n",
    "\n",
    "d = {'y_test': y_test_pr, 'final_preds': final_preds}\n",
    "pd.DataFrame(data=d).round(0)[:10]"
   ]
  },
  {
   "cell_type": "markdown",
   "metadata": {},
   "source": [
    "### Summary"
   ]
  },
  {
   "cell_type": "markdown",
   "metadata": {},
   "source": [
    "Model, that predicts number of customers, does a better job than a model that predicts sales. Moreover, customers model predict with an error 200 customers on average, while sales model predicts with an error around 1900 euros."
   ]
  }
 ],
 "metadata": {
  "kernelspec": {
   "display_name": "Python 3",
   "language": "python",
   "name": "python3"
  },
  "language_info": {
   "codemirror_mode": {
    "name": "ipython",
    "version": 3
   },
   "file_extension": ".py",
   "mimetype": "text/x-python",
   "name": "python",
   "nbconvert_exporter": "python",
   "pygments_lexer": "ipython3",
   "version": "3.6.5"
  }
 },
 "nbformat": 4,
 "nbformat_minor": 2
}
