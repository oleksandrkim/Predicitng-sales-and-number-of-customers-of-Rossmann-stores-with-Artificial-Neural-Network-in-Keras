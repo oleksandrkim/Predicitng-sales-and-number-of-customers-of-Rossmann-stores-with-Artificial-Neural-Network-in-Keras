{
 "cells": [
  {
   "cell_type": "markdown",
   "metadata": {},
   "source": [
    "## Predicitng sales and number of customers of Rossmann stores with Artificial Neural Network in Keras (Regression)"
   ]
  },
  {
   "cell_type": "markdown",
   "metadata": {},
   "source": [
    "### Information about the dataset"
   ]
  },
  {
   "cell_type": "markdown",
   "metadata": {},
   "source": [
    "- Number of inputs: **1 017 209**\n",
    "- Number of features: **19**\n",
    "- Dataset: https://www.kaggle.com/c/rossmann-store-sales\n",
    "- Data fields description: can be found here https://www.kaggle.com/c/rossmann-store-sales"
   ]
  },
  {
   "cell_type": "markdown",
   "metadata": {},
   "source": [
    "### Importing main libraries"
   ]
  },
  {
   "cell_type": "code",
   "execution_count": 1,
   "metadata": {},
   "outputs": [],
   "source": [
    "import numpy as np\n",
    "import matplotlib.pyplot as plt\n",
    "import pandas as pd\n",
    "from sklearn import preprocessing\n",
    "import warnings; warnings.simplefilter('ignore')"
   ]
  },
  {
   "cell_type": "markdown",
   "metadata": {},
   "source": [
    "**Loading of the dataset. Two dataset from the website were merged sepately, a merged version is presented**"
   ]
  },
  {
   "cell_type": "code",
   "execution_count": 2,
   "metadata": {},
   "outputs": [],
   "source": [
    "df_un = pd.read_csv(\"exported.csv\")"
   ]
  },
  {
   "cell_type": "markdown",
   "metadata": {},
   "source": [
    "**Some data preprocessing**"
   ]
  },
  {
   "cell_type": "code",
   "execution_count": 3,
   "metadata": {},
   "outputs": [],
   "source": [
    "#convert to datetime\n",
    "df_un['Date'] = pd.to_datetime(df_un['Date'])\n",
    "\n",
    "#create a month column from date column\n",
    "df_un['month'] = df_un['Date'].dt.month\n",
    "\n",
    "#create seasonal column\n",
    "conditions = [\n",
    "    (df_un['month'] == 1) | (df_un['month'] == 2) | (df_un['month'] == 12),\n",
    "    (df_un['month'] == 3) | (df_un['month'] == 4) | (df_un['month'] == 5),\n",
    "    (df_un['month'] == 6) | (df_un['month'] == 7) | (df_un['month'] == 8)  \n",
    "]\n",
    "\n",
    "choices = ['Winter', 'Spring', 'Summer']\n",
    "df_un['Season'] = np.select(conditions, choices, default='Autumn')"
   ]
  },
  {
   "cell_type": "markdown",
   "metadata": {},
   "source": [
    "**Usage of LabelEncoder to transform categorical variables**"
   ]
  },
  {
   "cell_type": "code",
   "execution_count": 4,
   "metadata": {},
   "outputs": [],
   "source": [
    "#le = preprocessing.LabelEncoder()\n",
    "#df_un['Season'] = le.fit_transform(df_un['Season'])\n",
    "#df_un['StoreType'] = le.fit_transform(df_un['StoreType'])\n",
    "#df_un['StateHoliday'] = le.fit_transform(df_un['StateHoliday'])\n",
    "#df_un['Assortment'] = le.fit_transform(df_un['Assortment'])"
   ]
  },
  {
   "cell_type": "markdown",
   "metadata": {},
   "source": [
    "**Removing values with competion distance = na and days when shops were closed**"
   ]
  },
  {
   "cell_type": "code",
   "execution_count": 5,
   "metadata": {},
   "outputs": [],
   "source": [
    "df_un = df_un[df_un['CompetitionDistance'].notnull()]\n",
    "df_un = df_un[df_un['Open']!=0]"
   ]
  },
  {
   "cell_type": "markdown",
   "metadata": {},
   "source": [
    "**A value to predict**"
   ]
  },
  {
   "cell_type": "code",
   "execution_count": 6,
   "metadata": {},
   "outputs": [],
   "source": [
    "y = df_un.iloc[:, 3]"
   ]
  },
  {
   "cell_type": "markdown",
   "metadata": {},
   "source": [
    "**Creating a separate dataframe with categorical variables to apply get_dummies**\n",
    "#only some columns from a dataset will be used - DayOfWeek,\tPromo,\tStateHoliday,\tSchoolHoliday,\tStoreType,\tAssortment,\tmonth,\tSeason\n"
   ]
  },
  {
   "cell_type": "code",
   "execution_count": 7,
   "metadata": {},
   "outputs": [],
   "source": [
    "#indexes of columns with and without categorical variables\n",
    "col_list = [1,6,7,8,9,10,19,20]\n",
    "no_cat_var = [11]\n",
    "\n",
    "df_un_cat = df_un.iloc[:, col_list]\n",
    "df_un_non_cat = df_un.iloc[:, no_cat_var]"
   ]
  },
  {
   "cell_type": "markdown",
   "metadata": {},
   "source": [
    "**Convert some variables to \"category\" so get_dummies encodes it**"
   ]
  },
  {
   "cell_type": "code",
   "execution_count": 8,
   "metadata": {},
   "outputs": [],
   "source": [
    "#conversion so get_dummies works\n",
    "df_un_cat['Promo']= df_un_cat['Promo'].astype('category')\n",
    "df_un_cat['SchoolHoliday'] = df_un_cat['SchoolHoliday'].astype('category')\n",
    "df_un_cat['month']= df_un_cat['month'].astype('category')\n",
    "df_un_cat['DayOfWeek']= df_un_cat['DayOfWeek'].astype('category')"
   ]
  },
  {
   "cell_type": "markdown",
   "metadata": {},
   "source": [
    "**Applying get_dummies** <br/>\n",
    "Dropping first dummy column is important to avoid collinearity, so drop_first is set to True"
   ]
  },
  {
   "cell_type": "code",
   "execution_count": 9,
   "metadata": {},
   "outputs": [],
   "source": [
    "df = pd.get_dummies(df_un_cat, drop_first=True)"
   ]
  },
  {
   "cell_type": "code",
   "execution_count": 10,
   "metadata": {},
   "outputs": [],
   "source": [
    "pd.options.display.max_columns = None"
   ]
  },
  {
   "cell_type": "code",
   "execution_count": 11,
   "metadata": {},
   "outputs": [
    {
     "data": {
      "text/html": [
       "<div>\n",
       "<style scoped>\n",
       "    .dataframe tbody tr th:only-of-type {\n",
       "        vertical-align: middle;\n",
       "    }\n",
       "\n",
       "    .dataframe tbody tr th {\n",
       "        vertical-align: top;\n",
       "    }\n",
       "\n",
       "    .dataframe thead th {\n",
       "        text-align: right;\n",
       "    }\n",
       "</style>\n",
       "<table border=\"1\" class=\"dataframe\">\n",
       "  <thead>\n",
       "    <tr style=\"text-align: right;\">\n",
       "      <th></th>\n",
       "      <th>DayOfWeek_2</th>\n",
       "      <th>DayOfWeek_3</th>\n",
       "      <th>DayOfWeek_4</th>\n",
       "      <th>DayOfWeek_5</th>\n",
       "      <th>DayOfWeek_6</th>\n",
       "      <th>DayOfWeek_7</th>\n",
       "      <th>Promo_1</th>\n",
       "      <th>StateHoliday_a</th>\n",
       "      <th>StateHoliday_b</th>\n",
       "      <th>StateHoliday_c</th>\n",
       "      <th>SchoolHoliday_1</th>\n",
       "      <th>StoreType_b</th>\n",
       "      <th>StoreType_c</th>\n",
       "      <th>StoreType_d</th>\n",
       "      <th>Assortment_b</th>\n",
       "      <th>Assortment_c</th>\n",
       "      <th>month_2</th>\n",
       "      <th>month_3</th>\n",
       "      <th>month_4</th>\n",
       "      <th>month_5</th>\n",
       "      <th>month_6</th>\n",
       "      <th>month_7</th>\n",
       "      <th>month_8</th>\n",
       "      <th>month_9</th>\n",
       "      <th>month_10</th>\n",
       "      <th>month_11</th>\n",
       "      <th>month_12</th>\n",
       "      <th>Season_Spring</th>\n",
       "      <th>Season_Summer</th>\n",
       "      <th>Season_Winter</th>\n",
       "    </tr>\n",
       "  </thead>\n",
       "  <tbody>\n",
       "    <tr>\n",
       "      <th>1</th>\n",
       "      <td>0</td>\n",
       "      <td>0</td>\n",
       "      <td>0</td>\n",
       "      <td>1</td>\n",
       "      <td>0</td>\n",
       "      <td>0</td>\n",
       "      <td>1</td>\n",
       "      <td>0</td>\n",
       "      <td>0</td>\n",
       "      <td>0</td>\n",
       "      <td>1</td>\n",
       "      <td>0</td>\n",
       "      <td>0</td>\n",
       "      <td>1</td>\n",
       "      <td>0</td>\n",
       "      <td>1</td>\n",
       "      <td>0</td>\n",
       "      <td>0</td>\n",
       "      <td>0</td>\n",
       "      <td>0</td>\n",
       "      <td>0</td>\n",
       "      <td>1</td>\n",
       "      <td>0</td>\n",
       "      <td>0</td>\n",
       "      <td>0</td>\n",
       "      <td>0</td>\n",
       "      <td>0</td>\n",
       "      <td>0</td>\n",
       "      <td>1</td>\n",
       "      <td>0</td>\n",
       "    </tr>\n",
       "    <tr>\n",
       "      <th>2</th>\n",
       "      <td>0</td>\n",
       "      <td>1</td>\n",
       "      <td>0</td>\n",
       "      <td>0</td>\n",
       "      <td>0</td>\n",
       "      <td>0</td>\n",
       "      <td>0</td>\n",
       "      <td>0</td>\n",
       "      <td>0</td>\n",
       "      <td>0</td>\n",
       "      <td>1</td>\n",
       "      <td>0</td>\n",
       "      <td>0</td>\n",
       "      <td>1</td>\n",
       "      <td>0</td>\n",
       "      <td>1</td>\n",
       "      <td>0</td>\n",
       "      <td>0</td>\n",
       "      <td>0</td>\n",
       "      <td>0</td>\n",
       "      <td>0</td>\n",
       "      <td>0</td>\n",
       "      <td>0</td>\n",
       "      <td>0</td>\n",
       "      <td>0</td>\n",
       "      <td>0</td>\n",
       "      <td>0</td>\n",
       "      <td>0</td>\n",
       "      <td>0</td>\n",
       "      <td>1</td>\n",
       "    </tr>\n",
       "    <tr>\n",
       "      <th>3</th>\n",
       "      <td>0</td>\n",
       "      <td>0</td>\n",
       "      <td>1</td>\n",
       "      <td>0</td>\n",
       "      <td>0</td>\n",
       "      <td>0</td>\n",
       "      <td>0</td>\n",
       "      <td>0</td>\n",
       "      <td>0</td>\n",
       "      <td>0</td>\n",
       "      <td>1</td>\n",
       "      <td>0</td>\n",
       "      <td>0</td>\n",
       "      <td>1</td>\n",
       "      <td>0</td>\n",
       "      <td>1</td>\n",
       "      <td>0</td>\n",
       "      <td>0</td>\n",
       "      <td>0</td>\n",
       "      <td>0</td>\n",
       "      <td>0</td>\n",
       "      <td>0</td>\n",
       "      <td>0</td>\n",
       "      <td>0</td>\n",
       "      <td>0</td>\n",
       "      <td>0</td>\n",
       "      <td>0</td>\n",
       "      <td>0</td>\n",
       "      <td>0</td>\n",
       "      <td>1</td>\n",
       "    </tr>\n",
       "    <tr>\n",
       "      <th>4</th>\n",
       "      <td>0</td>\n",
       "      <td>0</td>\n",
       "      <td>0</td>\n",
       "      <td>1</td>\n",
       "      <td>0</td>\n",
       "      <td>0</td>\n",
       "      <td>0</td>\n",
       "      <td>0</td>\n",
       "      <td>0</td>\n",
       "      <td>0</td>\n",
       "      <td>1</td>\n",
       "      <td>0</td>\n",
       "      <td>0</td>\n",
       "      <td>1</td>\n",
       "      <td>0</td>\n",
       "      <td>1</td>\n",
       "      <td>0</td>\n",
       "      <td>0</td>\n",
       "      <td>0</td>\n",
       "      <td>0</td>\n",
       "      <td>0</td>\n",
       "      <td>0</td>\n",
       "      <td>0</td>\n",
       "      <td>0</td>\n",
       "      <td>0</td>\n",
       "      <td>0</td>\n",
       "      <td>0</td>\n",
       "      <td>0</td>\n",
       "      <td>0</td>\n",
       "      <td>1</td>\n",
       "    </tr>\n",
       "    <tr>\n",
       "      <th>5</th>\n",
       "      <td>0</td>\n",
       "      <td>0</td>\n",
       "      <td>0</td>\n",
       "      <td>0</td>\n",
       "      <td>1</td>\n",
       "      <td>0</td>\n",
       "      <td>0</td>\n",
       "      <td>0</td>\n",
       "      <td>0</td>\n",
       "      <td>0</td>\n",
       "      <td>0</td>\n",
       "      <td>0</td>\n",
       "      <td>0</td>\n",
       "      <td>1</td>\n",
       "      <td>0</td>\n",
       "      <td>1</td>\n",
       "      <td>0</td>\n",
       "      <td>0</td>\n",
       "      <td>0</td>\n",
       "      <td>0</td>\n",
       "      <td>0</td>\n",
       "      <td>0</td>\n",
       "      <td>0</td>\n",
       "      <td>0</td>\n",
       "      <td>0</td>\n",
       "      <td>0</td>\n",
       "      <td>0</td>\n",
       "      <td>0</td>\n",
       "      <td>0</td>\n",
       "      <td>1</td>\n",
       "    </tr>\n",
       "  </tbody>\n",
       "</table>\n",
       "</div>"
      ],
      "text/plain": [
       "   DayOfWeek_2  DayOfWeek_3  DayOfWeek_4  DayOfWeek_5  DayOfWeek_6  \\\n",
       "1            0            0            0            1            0   \n",
       "2            0            1            0            0            0   \n",
       "3            0            0            1            0            0   \n",
       "4            0            0            0            1            0   \n",
       "5            0            0            0            0            1   \n",
       "\n",
       "   DayOfWeek_7  Promo_1  StateHoliday_a  StateHoliday_b  StateHoliday_c  \\\n",
       "1            0        1               0               0               0   \n",
       "2            0        0               0               0               0   \n",
       "3            0        0               0               0               0   \n",
       "4            0        0               0               0               0   \n",
       "5            0        0               0               0               0   \n",
       "\n",
       "   SchoolHoliday_1  StoreType_b  StoreType_c  StoreType_d  Assortment_b  \\\n",
       "1                1            0            0            1             0   \n",
       "2                1            0            0            1             0   \n",
       "3                1            0            0            1             0   \n",
       "4                1            0            0            1             0   \n",
       "5                0            0            0            1             0   \n",
       "\n",
       "   Assortment_c  month_2  month_3  month_4  month_5  month_6  month_7  \\\n",
       "1             1        0        0        0        0        0        1   \n",
       "2             1        0        0        0        0        0        0   \n",
       "3             1        0        0        0        0        0        0   \n",
       "4             1        0        0        0        0        0        0   \n",
       "5             1        0        0        0        0        0        0   \n",
       "\n",
       "   month_8  month_9  month_10  month_11  month_12  Season_Spring  \\\n",
       "1        0        0         0         0         0              0   \n",
       "2        0        0         0         0         0              0   \n",
       "3        0        0         0         0         0              0   \n",
       "4        0        0         0         0         0              0   \n",
       "5        0        0         0         0         0              0   \n",
       "\n",
       "   Season_Summer  Season_Winter  \n",
       "1              1              0  \n",
       "2              0              1  \n",
       "3              0              1  \n",
       "4              0              1  \n",
       "5              0              1  "
      ]
     },
     "execution_count": 11,
     "metadata": {},
     "output_type": "execute_result"
    }
   ],
   "source": [
    "df.head()"
   ]
  },
  {
   "cell_type": "markdown",
   "metadata": {},
   "source": [
    "**Adding continuos variables to encoded categorical**"
   ]
  },
  {
   "cell_type": "code",
   "execution_count": 42,
   "metadata": {},
   "outputs": [],
   "source": [
    "X = pd.merge(df, df_un_non_cat, left_index=True, right_index=True)"
   ]
  },
  {
   "cell_type": "markdown",
   "metadata": {},
   "source": [
    "**Final dataset**"
   ]
  },
  {
   "cell_type": "code",
   "execution_count": 43,
   "metadata": {},
   "outputs": [
    {
     "data": {
      "text/html": [
       "<div>\n",
       "<style scoped>\n",
       "    .dataframe tbody tr th:only-of-type {\n",
       "        vertical-align: middle;\n",
       "    }\n",
       "\n",
       "    .dataframe tbody tr th {\n",
       "        vertical-align: top;\n",
       "    }\n",
       "\n",
       "    .dataframe thead th {\n",
       "        text-align: right;\n",
       "    }\n",
       "</style>\n",
       "<table border=\"1\" class=\"dataframe\">\n",
       "  <thead>\n",
       "    <tr style=\"text-align: right;\">\n",
       "      <th></th>\n",
       "      <th>DayOfWeek_2</th>\n",
       "      <th>DayOfWeek_3</th>\n",
       "      <th>DayOfWeek_4</th>\n",
       "      <th>DayOfWeek_5</th>\n",
       "      <th>DayOfWeek_6</th>\n",
       "      <th>DayOfWeek_7</th>\n",
       "      <th>Promo_1</th>\n",
       "      <th>StateHoliday_a</th>\n",
       "      <th>StateHoliday_b</th>\n",
       "      <th>StateHoliday_c</th>\n",
       "      <th>SchoolHoliday_1</th>\n",
       "      <th>StoreType_b</th>\n",
       "      <th>StoreType_c</th>\n",
       "      <th>StoreType_d</th>\n",
       "      <th>Assortment_b</th>\n",
       "      <th>Assortment_c</th>\n",
       "      <th>month_2</th>\n",
       "      <th>month_3</th>\n",
       "      <th>month_4</th>\n",
       "      <th>month_5</th>\n",
       "      <th>month_6</th>\n",
       "      <th>month_7</th>\n",
       "      <th>month_8</th>\n",
       "      <th>month_9</th>\n",
       "      <th>month_10</th>\n",
       "      <th>month_11</th>\n",
       "      <th>month_12</th>\n",
       "      <th>Season_Spring</th>\n",
       "      <th>Season_Summer</th>\n",
       "      <th>Season_Winter</th>\n",
       "      <th>CompetitionDistance</th>\n",
       "    </tr>\n",
       "  </thead>\n",
       "  <tbody>\n",
       "    <tr>\n",
       "      <th>1</th>\n",
       "      <td>0</td>\n",
       "      <td>0</td>\n",
       "      <td>0</td>\n",
       "      <td>1</td>\n",
       "      <td>0</td>\n",
       "      <td>0</td>\n",
       "      <td>1</td>\n",
       "      <td>0</td>\n",
       "      <td>0</td>\n",
       "      <td>0</td>\n",
       "      <td>1</td>\n",
       "      <td>0</td>\n",
       "      <td>0</td>\n",
       "      <td>1</td>\n",
       "      <td>0</td>\n",
       "      <td>1</td>\n",
       "      <td>0</td>\n",
       "      <td>0</td>\n",
       "      <td>0</td>\n",
       "      <td>0</td>\n",
       "      <td>0</td>\n",
       "      <td>1</td>\n",
       "      <td>0</td>\n",
       "      <td>0</td>\n",
       "      <td>0</td>\n",
       "      <td>0</td>\n",
       "      <td>0</td>\n",
       "      <td>0</td>\n",
       "      <td>1</td>\n",
       "      <td>0</td>\n",
       "      <td>4610.0</td>\n",
       "    </tr>\n",
       "    <tr>\n",
       "      <th>2</th>\n",
       "      <td>0</td>\n",
       "      <td>1</td>\n",
       "      <td>0</td>\n",
       "      <td>0</td>\n",
       "      <td>0</td>\n",
       "      <td>0</td>\n",
       "      <td>0</td>\n",
       "      <td>0</td>\n",
       "      <td>0</td>\n",
       "      <td>0</td>\n",
       "      <td>1</td>\n",
       "      <td>0</td>\n",
       "      <td>0</td>\n",
       "      <td>1</td>\n",
       "      <td>0</td>\n",
       "      <td>1</td>\n",
       "      <td>0</td>\n",
       "      <td>0</td>\n",
       "      <td>0</td>\n",
       "      <td>0</td>\n",
       "      <td>0</td>\n",
       "      <td>0</td>\n",
       "      <td>0</td>\n",
       "      <td>0</td>\n",
       "      <td>0</td>\n",
       "      <td>0</td>\n",
       "      <td>0</td>\n",
       "      <td>0</td>\n",
       "      <td>0</td>\n",
       "      <td>1</td>\n",
       "      <td>4610.0</td>\n",
       "    </tr>\n",
       "    <tr>\n",
       "      <th>3</th>\n",
       "      <td>0</td>\n",
       "      <td>0</td>\n",
       "      <td>1</td>\n",
       "      <td>0</td>\n",
       "      <td>0</td>\n",
       "      <td>0</td>\n",
       "      <td>0</td>\n",
       "      <td>0</td>\n",
       "      <td>0</td>\n",
       "      <td>0</td>\n",
       "      <td>1</td>\n",
       "      <td>0</td>\n",
       "      <td>0</td>\n",
       "      <td>1</td>\n",
       "      <td>0</td>\n",
       "      <td>1</td>\n",
       "      <td>0</td>\n",
       "      <td>0</td>\n",
       "      <td>0</td>\n",
       "      <td>0</td>\n",
       "      <td>0</td>\n",
       "      <td>0</td>\n",
       "      <td>0</td>\n",
       "      <td>0</td>\n",
       "      <td>0</td>\n",
       "      <td>0</td>\n",
       "      <td>0</td>\n",
       "      <td>0</td>\n",
       "      <td>0</td>\n",
       "      <td>1</td>\n",
       "      <td>4610.0</td>\n",
       "    </tr>\n",
       "    <tr>\n",
       "      <th>4</th>\n",
       "      <td>0</td>\n",
       "      <td>0</td>\n",
       "      <td>0</td>\n",
       "      <td>1</td>\n",
       "      <td>0</td>\n",
       "      <td>0</td>\n",
       "      <td>0</td>\n",
       "      <td>0</td>\n",
       "      <td>0</td>\n",
       "      <td>0</td>\n",
       "      <td>1</td>\n",
       "      <td>0</td>\n",
       "      <td>0</td>\n",
       "      <td>1</td>\n",
       "      <td>0</td>\n",
       "      <td>1</td>\n",
       "      <td>0</td>\n",
       "      <td>0</td>\n",
       "      <td>0</td>\n",
       "      <td>0</td>\n",
       "      <td>0</td>\n",
       "      <td>0</td>\n",
       "      <td>0</td>\n",
       "      <td>0</td>\n",
       "      <td>0</td>\n",
       "      <td>0</td>\n",
       "      <td>0</td>\n",
       "      <td>0</td>\n",
       "      <td>0</td>\n",
       "      <td>1</td>\n",
       "      <td>4610.0</td>\n",
       "    </tr>\n",
       "    <tr>\n",
       "      <th>5</th>\n",
       "      <td>0</td>\n",
       "      <td>0</td>\n",
       "      <td>0</td>\n",
       "      <td>0</td>\n",
       "      <td>1</td>\n",
       "      <td>0</td>\n",
       "      <td>0</td>\n",
       "      <td>0</td>\n",
       "      <td>0</td>\n",
       "      <td>0</td>\n",
       "      <td>0</td>\n",
       "      <td>0</td>\n",
       "      <td>0</td>\n",
       "      <td>1</td>\n",
       "      <td>0</td>\n",
       "      <td>1</td>\n",
       "      <td>0</td>\n",
       "      <td>0</td>\n",
       "      <td>0</td>\n",
       "      <td>0</td>\n",
       "      <td>0</td>\n",
       "      <td>0</td>\n",
       "      <td>0</td>\n",
       "      <td>0</td>\n",
       "      <td>0</td>\n",
       "      <td>0</td>\n",
       "      <td>0</td>\n",
       "      <td>0</td>\n",
       "      <td>0</td>\n",
       "      <td>1</td>\n",
       "      <td>4610.0</td>\n",
       "    </tr>\n",
       "  </tbody>\n",
       "</table>\n",
       "</div>"
      ],
      "text/plain": [
       "   DayOfWeek_2  DayOfWeek_3  DayOfWeek_4  DayOfWeek_5  DayOfWeek_6  \\\n",
       "1            0            0            0            1            0   \n",
       "2            0            1            0            0            0   \n",
       "3            0            0            1            0            0   \n",
       "4            0            0            0            1            0   \n",
       "5            0            0            0            0            1   \n",
       "\n",
       "   DayOfWeek_7  Promo_1  StateHoliday_a  StateHoliday_b  StateHoliday_c  \\\n",
       "1            0        1               0               0               0   \n",
       "2            0        0               0               0               0   \n",
       "3            0        0               0               0               0   \n",
       "4            0        0               0               0               0   \n",
       "5            0        0               0               0               0   \n",
       "\n",
       "   SchoolHoliday_1  StoreType_b  StoreType_c  StoreType_d  Assortment_b  \\\n",
       "1                1            0            0            1             0   \n",
       "2                1            0            0            1             0   \n",
       "3                1            0            0            1             0   \n",
       "4                1            0            0            1             0   \n",
       "5                0            0            0            1             0   \n",
       "\n",
       "   Assortment_c  month_2  month_3  month_4  month_5  month_6  month_7  \\\n",
       "1             1        0        0        0        0        0        1   \n",
       "2             1        0        0        0        0        0        0   \n",
       "3             1        0        0        0        0        0        0   \n",
       "4             1        0        0        0        0        0        0   \n",
       "5             1        0        0        0        0        0        0   \n",
       "\n",
       "   month_8  month_9  month_10  month_11  month_12  Season_Spring  \\\n",
       "1        0        0         0         0         0              0   \n",
       "2        0        0         0         0         0              0   \n",
       "3        0        0         0         0         0              0   \n",
       "4        0        0         0         0         0              0   \n",
       "5        0        0         0         0         0              0   \n",
       "\n",
       "   Season_Summer  Season_Winter  CompetitionDistance  \n",
       "1              1              0               4610.0  \n",
       "2              0              1               4610.0  \n",
       "3              0              1               4610.0  \n",
       "4              0              1               4610.0  \n",
       "5              0              1               4610.0  "
      ]
     },
     "execution_count": 43,
     "metadata": {},
     "output_type": "execute_result"
    }
   ],
   "source": [
    "X.head()"
   ]
  },
  {
   "cell_type": "markdown",
   "metadata": {},
   "source": [
    "### Creation of a Neural Network"
   ]
  },
  {
   "cell_type": "markdown",
   "metadata": {},
   "source": [
    "**Train/test split**"
   ]
  },
  {
   "cell_type": "code",
   "execution_count": 37,
   "metadata": {},
   "outputs": [],
   "source": [
    "from sklearn.model_selection import train_test_split\n",
    "X_train, X_test, y_train, y_test = train_test_split(df_m, y, test_size = 0.2)"
   ]
  },
  {
   "cell_type": "markdown",
   "metadata": {},
   "source": [
    "**Feature Scaling**"
   ]
  },
  {
   "cell_type": "code",
   "execution_count": 38,
   "metadata": {},
   "outputs": [],
   "source": [
    "from sklearn.preprocessing import StandardScaler\n",
    "sc = StandardScaler()\n",
    "X_train = sc.fit_transform(X_train)\n",
    "X_test = sc.transform(X_test)"
   ]
  },
  {
   "cell_type": "code",
   "execution_count": 39,
   "metadata": {},
   "outputs": [
    {
     "data": {
      "text/plain": [
       "'\\nTo apply it to a dataset:\\n\\nimport numpy as np\\n\\nX_train_scaled = scaler.transform(X_train)\\nnew_data = np.array([-1.,  1., 0.])    \\nnew_data_scaled = scaler.transform(new_data)\\n>>>new_data_scaled\\narray([[-2.44...,  1.22..., -0.26...]])'"
      ]
     },
     "execution_count": 39,
     "metadata": {},
     "output_type": "execute_result"
    }
   ],
   "source": [
    "\"\"\"\n",
    "To apply it to a dataset:\n",
    "\n",
    "import numpy as np\n",
    "\n",
    "X_train_scaled = scaler.transform(X_train)\n",
    "new_data = np.array([-1.,  1., 0.])    \n",
    "new_data_scaled = scaler.transform(new_data)\n",
    ">>>new_data_scaled\n",
    "array([[-2.44...,  1.22..., -0.26...]])\"\"\""
   ]
  },
  {
   "cell_type": "markdown",
   "metadata": {},
   "source": [
    "**Importing the Keras libraries and packages**"
   ]
  },
  {
   "cell_type": "code",
   "execution_count": 40,
   "metadata": {},
   "outputs": [],
   "source": [
    "import keras\n",
    "from keras.models import Sequential\n",
    "from keras.layers import Dense\n",
    "from keras.layers import Dropout"
   ]
  },
  {
   "cell_type": "markdown",
   "metadata": {},
   "source": [
    "### Predicting sales of Rossmann shops per day"
   ]
  },
  {
   "cell_type": "markdown",
   "metadata": {},
   "source": [
    "**How the model will look like:** <br/>\n",
    "5 layers, each has 96 neurons, small dropout to prevent overfitting, relu as an activator, mean squared error as loss function, adam as an optimizer, 15 epochs."
   ]
  },
  {
   "cell_type": "code",
   "execution_count": 44,
   "metadata": {},
   "outputs": [
    {
     "name": "stdout",
     "output_type": "stream",
     "text": [
      "Epoch 1/15\n",
      "673764/673764 [==============================] - 17s 25us/step - loss: 52881351.8786 - mean_squared_error: 52881351.8786 - mean_absolute_error: 6542.2389 - mean_absolute_percentage_error: 27359145.17490s - loss: 58070283.6800 - mean_squared_error: 58070283.6800 - mean_absolute\n",
      "Epoch 2/15\n",
      "673764/673764 [==============================] - 16s 23us/step - loss: 9248372.8743 - mean_squared_error: 9248372.8743 - mean_absolute_error: 2214.0424 - mean_absolute_percentage_error: 373030808.2047\n",
      "Epoch 3/15\n",
      "673764/673764 [==============================] - 16s 23us/step - loss: 7841499.2344 - mean_squared_error: 7841499.2344 - mean_absolute_error: 2048.2934 - mean_absolute_percentage_error: 382541773.6798\n",
      "Epoch 4/15\n",
      "673764/673764 [==============================] - 16s 24us/step - loss: 7724952.1392 - mean_squared_error: 7724952.1392 - mean_absolute_error: 2033.4242 - mean_absolute_percentage_error: 381200468.3719\n",
      "Epoch 5/15\n",
      "673764/673764 [==============================] - 15s 23us/step - loss: 7670350.9486 - mean_squared_error: 7670350.9486 - mean_absolute_error: 2023.6333 - mean_absolute_percentage_error: 378409249.0325\n",
      "Epoch 6/15\n",
      "673764/673764 [==============================] - 15s 22us/step - loss: 7616146.5317 - mean_squared_error: 7616146.5317 - mean_absolute_error: 2016.2545 - mean_absolute_percentage_error: 380192789.9530\n",
      "Epoch 7/15\n",
      "673764/673764 [==============================] - 14s 21us/step - loss: 7576639.0890 - mean_squared_error: 7576639.0890 - mean_absolute_error: 2009.7818 - mean_absolute_percentage_error: 377839969.9170\n",
      "Epoch 8/15\n",
      "673764/673764 [==============================] - 15s 22us/step - loss: 7549454.3632 - mean_squared_error: 7549454.3632 - mean_absolute_error: 2005.4794 - mean_absolute_percentage_error: 377369617.8642\n",
      "Epoch 9/15\n",
      "673764/673764 [==============================] - 15s 22us/step - loss: 7523192.1642 - mean_squared_error: 7523192.1642 - mean_absolute_error: 2001.2187 - mean_absolute_percentage_error: 366668360.0279\n",
      "Epoch 10/15\n",
      "673764/673764 [==============================] - 15s 22us/step - loss: 7510808.5353 - mean_squared_error: 7510808.5353 - mean_absolute_error: 1998.6358 - mean_absolute_percentage_error: 380132450.0784\n",
      "Epoch 11/15\n",
      "673764/673764 [==============================] - 15s 22us/step - loss: 7484265.0408 - mean_squared_error: 7484265.0408 - mean_absolute_error: 1994.5123 - mean_absolute_percentage_error: 376817521.1600\n",
      "Epoch 12/15\n",
      "673764/673764 [==============================] - 15s 22us/step - loss: 7477396.7849 - mean_squared_error: 7477396.7849 - mean_absolute_error: 1992.6139 - mean_absolute_percentage_error: 376280477.6054\n",
      "Epoch 13/15\n",
      "673764/673764 [==============================] - 15s 23us/step - loss: 7453518.7577 - mean_squared_error: 7453518.7577 - mean_absolute_error: 1988.9033 - mean_absolute_percentage_error: 376612017.9975\n",
      "Epoch 14/15\n",
      "673764/673764 [==============================] - 15s 22us/step - loss: 7448065.8465 - mean_squared_error: 7448065.8465 - mean_absolute_error: 1987.8535 - mean_absolute_percentage_error: 380160751.8428\n",
      "Epoch 15/15\n",
      "673764/673764 [==============================] - 15s 22us/step - loss: 7443433.8804 - mean_squared_error: 7443433.8804 - mean_absolute_error: 1986.8235 - mean_absolute_percentage_error: 375534611.1263\n"
     ]
    }
   ],
   "source": [
    "# Initialising the ANN\n",
    "model = Sequential()    \n",
    "model.add(Dense(units = 96, kernel_initializer = 'uniform', activation = 'relu', input_dim = 31))\n",
    "model.add(Dropout(p = 0.1))\n",
    "model.add(Dense(units = 96, kernel_initializer = 'uniform', activation = 'relu'))\n",
    "model.add(Dropout(p = 0.1))\n",
    "model.add(Dense(units = 96, kernel_initializer = 'uniform', activation = 'relu'))\n",
    "model.add(Dropout(p = 0.1))\n",
    "model.add(Dense(units = 96, kernel_initializer = 'uniform', activation = 'relu'))\n",
    "model.add(Dropout(p = 0.1))\n",
    "model.add(Dense(units = 96, kernel_initializer = 'uniform', activation = 'relu'))\n",
    "model.add(Dropout(p = 0.1))\n",
    "model.add(Dense(units = 1, kernel_initializer = 'uniform', activation='linear'))\n",
    "model.compile(loss='mse', optimizer='adam', metrics=['mse', 'mae', 'mape'])\n",
    "history = model.fit(X_train, y_train, batch_size = 10000, epochs = 15)"
   ]
  },
  {
   "cell_type": "markdown",
   "metadata": {},
   "source": [
    "**MSE plot**"
   ]
  },
  {
   "cell_type": "code",
   "execution_count": 45,
   "metadata": {},
   "outputs": [
    {
     "data": {
      "text/plain": [
       "[<matplotlib.lines.Line2D at 0x220a0d1a4a8>]"
      ]
     },
     "execution_count": 45,
     "metadata": {},
     "output_type": "execute_result"
    },
    {
     "data": {
      "image/png": "[encoded data removed]",
      "text/plain": [
       "<Figure size 432x288 with 1 Axes>"
      ]
     },
     "metadata": {},
     "output_type": "display_data"
    }
   ],
   "source": [
    "plt.plot(history.history['mean_squared_error'])"
   ]
  },
  {
   "cell_type": "markdown",
   "metadata": {},
   "source": [
    "**MAE plot**"
   ]
  },
  {
   "cell_type": "code",
   "execution_count": 62,
   "metadata": {},
   "outputs": [
    {
     "data": {
      "text/plain": [
       "[<matplotlib.lines.Line2D at 0x220a0d055c0>]"
      ]
     },
     "execution_count": 62,
     "metadata": {},
     "output_type": "execute_result"
    },
    {
     "data": {
      "image/png": "[encoded data removed]",
      "text/plain": [
       "<Figure size 432x288 with 1 Axes>"
      ]
     },
     "metadata": {},
     "output_type": "display_data"
    }
   ],
   "source": [
    "plt.plot(history.history['mean_absolute_error'])"
   ]
  },
  {
   "cell_type": "markdown",
   "metadata": {},
   "source": [
    "**R-squared of a model**"
   ]
  },
  {
   "cell_type": "code",
   "execution_count": 46,
   "metadata": {},
   "outputs": [
    {
     "data": {
      "text/plain": [
       "0.27531140368150253"
      ]
     },
     "execution_count": 46,
     "metadata": {},
     "output_type": "execute_result"
    }
   ],
   "source": [
    "y_pred = model.predict(X_test)\n",
    "from sklearn.metrics import r2_score\n",
    "r2_score(y_test, y_pred) "
   ]
  },
  {
   "cell_type": "markdown",
   "metadata": {},
   "source": [
    "**MSE of a model**"
   ]
  },
  {
   "cell_type": "code",
   "execution_count": 47,
   "metadata": {},
   "outputs": [
    {
     "data": {
      "text/plain": [
       "7073767.011295403"
      ]
     },
     "execution_count": 47,
     "metadata": {},
     "output_type": "execute_result"
    }
   ],
   "source": [
    "from sklearn.metrics import mean_squared_error\n",
    "mean_squared_error(y_test, y_pred)"
   ]
  },
  {
   "cell_type": "markdown",
   "metadata": {},
   "source": [
    "**MAE of a model**"
   ]
  },
  {
   "cell_type": "code",
   "execution_count": 48,
   "metadata": {},
   "outputs": [
    {
     "data": {
      "text/plain": [
       "1911.9825658878501"
      ]
     },
     "execution_count": 48,
     "metadata": {},
     "output_type": "execute_result"
    }
   ],
   "source": [
    "from sklearn.metrics import mean_absolute_error\n",
    "mean_absolute_error(y_test, y_pred)"
   ]
  },
  {
   "cell_type": "markdown",
   "metadata": {},
   "source": [
    "**A table that compares real and predicted values**"
   ]
  },
  {
   "cell_type": "code",
   "execution_count": 60,
   "metadata": {},
   "outputs": [
    {
     "data": {
      "text/html": [
       "<div>\n",
       "<style scoped>\n",
       "    .dataframe tbody tr th:only-of-type {\n",
       "        vertical-align: middle;\n",
       "    }\n",
       "\n",
       "    .dataframe tbody tr th {\n",
       "        vertical-align: top;\n",
       "    }\n",
       "\n",
       "    .dataframe thead th {\n",
       "        text-align: right;\n",
       "    }\n",
       "</style>\n",
       "<table border=\"1\" class=\"dataframe\">\n",
       "  <thead>\n",
       "    <tr style=\"text-align: right;\">\n",
       "      <th></th>\n",
       "      <th>y_test</th>\n",
       "      <th>final_preds</th>\n",
       "    </tr>\n",
       "  </thead>\n",
       "  <tbody>\n",
       "    <tr>\n",
       "      <th>0</th>\n",
       "      <td>3600</td>\n",
       "      <td>5930.0</td>\n",
       "    </tr>\n",
       "    <tr>\n",
       "      <th>1</th>\n",
       "      <td>3264</td>\n",
       "      <td>5648.0</td>\n",
       "    </tr>\n",
       "    <tr>\n",
       "      <th>2</th>\n",
       "      <td>11497</td>\n",
       "      <td>8473.0</td>\n",
       "    </tr>\n",
       "    <tr>\n",
       "      <th>3</th>\n",
       "      <td>3518</td>\n",
       "      <td>5158.0</td>\n",
       "    </tr>\n",
       "    <tr>\n",
       "      <th>4</th>\n",
       "      <td>1379</td>\n",
       "      <td>5307.0</td>\n",
       "    </tr>\n",
       "    <tr>\n",
       "      <th>5</th>\n",
       "      <td>4838</td>\n",
       "      <td>4941.0</td>\n",
       "    </tr>\n",
       "    <tr>\n",
       "      <th>6</th>\n",
       "      <td>8337</td>\n",
       "      <td>5033.0</td>\n",
       "    </tr>\n",
       "    <tr>\n",
       "      <th>7</th>\n",
       "      <td>5490</td>\n",
       "      <td>5418.0</td>\n",
       "    </tr>\n",
       "    <tr>\n",
       "      <th>8</th>\n",
       "      <td>10420</td>\n",
       "      <td>9858.0</td>\n",
       "    </tr>\n",
       "    <tr>\n",
       "      <th>9</th>\n",
       "      <td>6139</td>\n",
       "      <td>6781.0</td>\n",
       "    </tr>\n",
       "  </tbody>\n",
       "</table>\n",
       "</div>"
      ],
      "text/plain": [
       "   y_test  final_preds\n",
       "0    3600       5930.0\n",
       "1    3264       5648.0\n",
       "2   11497       8473.0\n",
       "3    3518       5158.0\n",
       "4    1379       5307.0\n",
       "5    4838       4941.0\n",
       "6    8337       5033.0\n",
       "7    5490       5418.0\n",
       "8   10420       9858.0\n",
       "9    6139       6781.0"
      ]
     },
     "execution_count": 60,
     "metadata": {},
     "output_type": "execute_result"
    }
   ],
   "source": [
    "final_preds = []\n",
    "for pred in y_pred:\n",
    "    final_preds.append(pred[0])\n",
    "\n",
    "y_test_pr = []\n",
    "for pred in y_test:\n",
    "    y_test_pr.append(pred)\n",
    "\n",
    "d = {'y_test': y_test_pr, 'final_preds': final_preds}\n",
    "pd.DataFrame(data=d).round(0)[:10]"
   ]
  },
  {
   "cell_type": "markdown",
   "metadata": {},
   "source": [
    "### Predicting sales of Rossmann shops per day"
   ]
  },
  {
   "cell_type": "code",
   "execution_count": 67,
   "metadata": {},
   "outputs": [],
   "source": [
    "y = df_un.iloc[:, 4]"
   ]
  },
  {
   "cell_type": "code",
   "execution_count": 68,
   "metadata": {},
   "outputs": [],
   "source": [
    "from sklearn.model_selection import train_test_split\n",
    "X_train, X_test, y_train, y_test = train_test_split(df_m, y, test_size = 0.2)\n",
    "\n",
    "##**Feature Scaling**\n",
    "\n",
    "from sklearn.preprocessing import StandardScaler\n",
    "sc = StandardScaler()\n",
    "X_train = sc.fit_transform(X_train)\n",
    "X_test = sc.transform(X_test)"
   ]
  },
  {
   "cell_type": "code",
   "execution_count": 69,
   "metadata": {},
   "outputs": [
    {
     "name": "stdout",
     "output_type": "stream",
     "text": [
      "Epoch 1/15\n",
      "673764/673764 [==============================] - 13s 20us/step - loss: 558032.8175 - mean_squared_error: 558032.8175 - mean_absolute_error: 615.5145 - mean_absolute_percentage_error: 11384505.4453\n",
      "Epoch 2/15\n",
      "673764/673764 [==============================] - 13s 19us/step - loss: 122927.3301 - mean_squared_error: 122927.3301 - mean_absolute_error: 241.0994 - mean_absolute_percentage_error: 42779576.3843\n",
      "Epoch 3/15\n",
      "673764/673764 [==============================] - 13s 19us/step - loss: 115429.0723 - mean_squared_error: 115429.0723 - mean_absolute_error: 234.8803 - mean_absolute_percentage_error: 42174909.6388\n",
      "Epoch 4/15\n",
      "673764/673764 [==============================] - 13s 20us/step - loss: 114120.2412 - mean_squared_error: 114120.2412 - mean_absolute_error: 233.4680 - mean_absolute_percentage_error: 42796632.3242\n",
      "Epoch 5/15\n",
      "673764/673764 [==============================] - 13s 19us/step - loss: 113390.0300 - mean_squared_error: 113390.0300 - mean_absolute_error: 232.7679 - mean_absolute_percentage_error: 43497043.1461\n",
      "Epoch 6/15\n",
      "673764/673764 [==============================] - 14s 20us/step - loss: 112340.1010 - mean_squared_error: 112340.1010 - mean_absolute_error: 231.5061 - mean_absolute_percentage_error: 43625589.5903\n",
      "Epoch 7/15\n",
      "673764/673764 [==============================] - 14s 21us/step - loss: 111850.2475 - mean_squared_error: 111850.2475 - mean_absolute_error: 230.9181 - mean_absolute_percentage_error: 43928480.8581\n",
      "Epoch 8/15\n",
      "673764/673764 [==============================] - 14s 20us/step - loss: 111410.4618 - mean_squared_error: 111410.4618 - mean_absolute_error: 230.2537 - mean_absolute_percentage_error: 44316057.2536\n",
      "Epoch 9/15\n",
      "673764/673764 [==============================] - 13s 20us/step - loss: 110949.0775 - mean_squared_error: 110949.0775 - mean_absolute_error: 229.8340 - mean_absolute_percentage_error: 43242111.9416: 13s - loss: 113185\n",
      "Epoch 10/15\n",
      "673764/673764 [==============================] - 13s 20us/step - loss: 110369.8505 - mean_squared_error: 110369.8505 - mean_absolute_error: 229.0848 - mean_absolute_percentage_error: 42698514.80497s - loss: 109213.1539 - mean_squared_error: 109213.15\n",
      "Epoch 11/15\n",
      "673764/673764 [==============================] - 13s 20us/step - loss: 109872.7869 - mean_squared_error: 109872.7869 - mean_absolute_error: 228.6686 - mean_absolute_percentage_error: 42488007.7126\n",
      "Epoch 12/15\n",
      "673764/673764 [==============================] - 14s 20us/step - loss: 109227.4048 - mean_squared_error: 109227.4048 - mean_absolute_error: 227.8610 - mean_absolute_percentage_error: 42467075.3010\n",
      "Epoch 13/15\n",
      "673764/673764 [==============================] - 14s 20us/step - loss: 108777.1864 - mean_squared_error: 108777.1864 - mean_absolute_error: 227.5073 - mean_absolute_percentage_error: 42591263.7304\n",
      "Epoch 14/15\n",
      "673764/673764 [==============================] - 14s 20us/step - loss: 108332.3699 - mean_squared_error: 108332.3699 - mean_absolute_error: 226.9637 - mean_absolute_percentage_error: 42439645.9778\n",
      "Epoch 15/15\n",
      "673764/673764 [==============================] - 14s 20us/step - loss: 107922.2710 - mean_squared_error: 107922.2710 - mean_absolute_error: 226.5761 - mean_absolute_percentage_error: 43568065.1157\n"
     ]
    }
   ],
   "source": [
    "# Initialising the ANN\n",
    "model = Sequential()    \n",
    "model.add(Dense(units = 96, kernel_initializer = 'uniform', activation = 'relu', input_dim = 31))\n",
    "model.add(Dropout(p = 0.1))\n",
    "model.add(Dense(units = 96, kernel_initializer = 'uniform', activation = 'relu'))\n",
    "model.add(Dropout(p = 0.1))\n",
    "model.add(Dense(units = 96, kernel_initializer = 'uniform', activation = 'relu'))\n",
    "model.add(Dropout(p = 0.1))\n",
    "model.add(Dense(units = 96, kernel_initializer = 'uniform', activation = 'relu'))\n",
    "model.add(Dropout(p = 0.1))\n",
    "model.add(Dense(units = 96, kernel_initializer = 'uniform', activation = 'relu'))\n",
    "model.add(Dropout(p = 0.1))\n",
    "model.add(Dense(units = 1, kernel_initializer = 'uniform', activation='linear'))\n",
    "model.compile(loss='mse', optimizer='adam', metrics=['mse', 'mae', 'mape'])\n",
    "history = model.fit(X_train, y_train, batch_size = 10000, epochs = 15)"
   ]
  },
  {
   "cell_type": "markdown",
   "metadata": {},
   "source": [
    "**R-squared of a model**"
   ]
  },
  {
   "cell_type": "code",
   "execution_count": 71,
   "metadata": {},
   "outputs": [
    {
     "data": {
      "text/plain": [
       "0.36251668787505475"
      ]
     },
     "execution_count": 71,
     "metadata": {},
     "output_type": "execute_result"
    }
   ],
   "source": [
    "y_pred = model.predict(X_test)\n",
    "from sklearn.metrics import r2_score\n",
    "r2_score(y_test, y_pred) "
   ]
  },
  {
   "cell_type": "markdown",
   "metadata": {},
   "source": [
    "**MSE of a model**"
   ]
  },
  {
   "cell_type": "code",
   "execution_count": 72,
   "metadata": {},
   "outputs": [
    {
     "data": {
      "text/plain": [
       "102731.89357727279"
      ]
     },
     "execution_count": 72,
     "metadata": {},
     "output_type": "execute_result"
    }
   ],
   "source": [
    "from sklearn.metrics import mean_squared_error\n",
    "mean_squared_error(y_test, y_pred)"
   ]
  },
  {
   "cell_type": "markdown",
   "metadata": {},
   "source": [
    "**MAE of a model**"
   ]
  },
  {
   "cell_type": "code",
   "execution_count": 73,
   "metadata": {},
   "outputs": [
    {
     "data": {
      "text/plain": [
       "218.19085490895657"
      ]
     },
     "execution_count": 73,
     "metadata": {},
     "output_type": "execute_result"
    }
   ],
   "source": [
    "from sklearn.metrics import mean_absolute_error\n",
    "mean_absolute_error(y_test, y_pred)"
   ]
  },
  {
   "cell_type": "markdown",
   "metadata": {},
   "source": [
    "**A table that compares real and predicted values**"
   ]
  },
  {
   "cell_type": "code",
   "execution_count": 74,
   "metadata": {},
   "outputs": [
    {
     "data": {
      "text/html": [
       "<div>\n",
       "<style scoped>\n",
       "    .dataframe tbody tr th:only-of-type {\n",
       "        vertical-align: middle;\n",
       "    }\n",
       "\n",
       "    .dataframe tbody tr th {\n",
       "        vertical-align: top;\n",
       "    }\n",
       "\n",
       "    .dataframe thead th {\n",
       "        text-align: right;\n",
       "    }\n",
       "</style>\n",
       "<table border=\"1\" class=\"dataframe\">\n",
       "  <thead>\n",
       "    <tr style=\"text-align: right;\">\n",
       "      <th></th>\n",
       "      <th>y_test</th>\n",
       "      <th>final_preds</th>\n",
       "    </tr>\n",
       "  </thead>\n",
       "  <tbody>\n",
       "    <tr>\n",
       "      <th>0</th>\n",
       "      <td>927</td>\n",
       "      <td>776.0</td>\n",
       "    </tr>\n",
       "    <tr>\n",
       "      <th>1</th>\n",
       "      <td>547</td>\n",
       "      <td>766.0</td>\n",
       "    </tr>\n",
       "    <tr>\n",
       "      <th>2</th>\n",
       "      <td>479</td>\n",
       "      <td>581.0</td>\n",
       "    </tr>\n",
       "    <tr>\n",
       "      <th>3</th>\n",
       "      <td>747</td>\n",
       "      <td>624.0</td>\n",
       "    </tr>\n",
       "    <tr>\n",
       "      <th>4</th>\n",
       "      <td>488</td>\n",
       "      <td>676.0</td>\n",
       "    </tr>\n",
       "    <tr>\n",
       "      <th>5</th>\n",
       "      <td>617</td>\n",
       "      <td>626.0</td>\n",
       "    </tr>\n",
       "    <tr>\n",
       "      <th>6</th>\n",
       "      <td>788</td>\n",
       "      <td>668.0</td>\n",
       "    </tr>\n",
       "    <tr>\n",
       "      <th>7</th>\n",
       "      <td>1251</td>\n",
       "      <td>823.0</td>\n",
       "    </tr>\n",
       "    <tr>\n",
       "      <th>8</th>\n",
       "      <td>486</td>\n",
       "      <td>682.0</td>\n",
       "    </tr>\n",
       "    <tr>\n",
       "      <th>9</th>\n",
       "      <td>1454</td>\n",
       "      <td>988.0</td>\n",
       "    </tr>\n",
       "  </tbody>\n",
       "</table>\n",
       "</div>"
      ],
      "text/plain": [
       "   y_test  final_preds\n",
       "0     927        776.0\n",
       "1     547        766.0\n",
       "2     479        581.0\n",
       "3     747        624.0\n",
       "4     488        676.0\n",
       "5     617        626.0\n",
       "6     788        668.0\n",
       "7    1251        823.0\n",
       "8     486        682.0\n",
       "9    1454        988.0"
      ]
     },
     "execution_count": 74,
     "metadata": {},
     "output_type": "execute_result"
    }
   ],
   "source": [
    "final_preds = []\n",
    "for pred in y_pred:\n",
    "    final_preds.append(pred[0])\n",
    "\n",
    "y_test_pr = []\n",
    "for pred in y_test:\n",
    "    y_test_pr.append(pred)\n",
    "\n",
    "d = {'y_test': y_test_pr, 'final_preds': final_preds}\n",
    "pd.DataFrame(data=d).round(0)[:10]"
   ]
  },
  {
   "cell_type": "markdown",
   "metadata": {},
   "source": [
    "### Summary"
   ]
  },
  {
   "cell_type": "markdown",
   "metadata": {},
   "source": [
    "Model, that predicts number of customers, does a better job than a model that predicts sales. Moreover, customers model predict with an error 200 customers on average, while sales model predicts with an error around 1900 euros."
   ]
  }
 ],
 "metadata": {
  "kernelspec": {
   "display_name": "Python 3",
   "language": "python",
   "name": "python3"
  }
 },
 "nbformat": 4,
 "nbformat_minor": 2
}
